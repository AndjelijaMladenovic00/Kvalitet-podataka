{
 "cells": [
  {
   "cell_type": "markdown",
   "id": "fdb4ee4d-983a-4eb0-8238-91bd21d9602f",
   "metadata": {},
   "source": [
    "# Kvalitet podataka"
   ]
  },
  {
   "cell_type": "code",
   "execution_count": 1,
   "id": "befae011-c8c2-4e72-bab1-70d1d9c05326",
   "metadata": {},
   "outputs": [
    {
     "name": "stderr",
     "output_type": "stream",
     "text": [
      "\n",
      "[notice] A new release of pip available: 22.3.1 -> 24.0\n",
      "[notice] To update, run: python.exe -m pip install --upgrade pip\n"
     ]
    },
    {
     "name": "stdout",
     "output_type": "stream",
     "text": [
      "Requirement already satisfied: seaborn in c:\\users\\andje\\appdata\\local\\programs\\python\\python310\\lib\\site-packages (0.13.0)\n",
      "Requirement already satisfied: numpy!=1.24.0,>=1.20 in c:\\users\\andje\\appdata\\local\\programs\\python\\python310\\lib\\site-packages (from seaborn) (1.24.1)\n",
      "Requirement already satisfied: matplotlib!=3.6.1,>=3.3 in c:\\users\\andje\\appdata\\local\\programs\\python\\python310\\lib\\site-packages (from seaborn) (3.6.3)\n",
      "Requirement already satisfied: pandas>=1.2 in c:\\users\\andje\\appdata\\local\\programs\\python\\python310\\lib\\site-packages (from seaborn) (1.5.3)\n",
      "Requirement already satisfied: packaging>=20.0 in c:\\users\\andje\\appdata\\local\\programs\\python\\python310\\lib\\site-packages (from matplotlib!=3.6.1,>=3.3->seaborn) (23.0)\n",
      "Requirement already satisfied: fonttools>=4.22.0 in c:\\users\\andje\\appdata\\local\\programs\\python\\python310\\lib\\site-packages (from matplotlib!=3.6.1,>=3.3->seaborn) (4.38.0)\n",
      "Requirement already satisfied: kiwisolver>=1.0.1 in c:\\users\\andje\\appdata\\local\\programs\\python\\python310\\lib\\site-packages (from matplotlib!=3.6.1,>=3.3->seaborn) (1.4.4)\n",
      "Requirement already satisfied: pillow>=6.2.0 in c:\\users\\andje\\appdata\\local\\programs\\python\\python310\\lib\\site-packages (from matplotlib!=3.6.1,>=3.3->seaborn) (9.4.0)\n",
      "Requirement already satisfied: pyparsing>=2.2.1 in c:\\users\\andje\\appdata\\local\\programs\\python\\python310\\lib\\site-packages (from matplotlib!=3.6.1,>=3.3->seaborn) (3.0.9)\n",
      "Requirement already satisfied: contourpy>=1.0.1 in c:\\users\\andje\\appdata\\local\\programs\\python\\python310\\lib\\site-packages (from matplotlib!=3.6.1,>=3.3->seaborn) (1.0.7)\n",
      "Requirement already satisfied: python-dateutil>=2.7 in c:\\users\\andje\\appdata\\local\\programs\\python\\python310\\lib\\site-packages (from matplotlib!=3.6.1,>=3.3->seaborn) (2.8.2)\n",
      "Requirement already satisfied: cycler>=0.10 in c:\\users\\andje\\appdata\\local\\programs\\python\\python310\\lib\\site-packages (from matplotlib!=3.6.1,>=3.3->seaborn) (0.11.0)\n",
      "Requirement already satisfied: pytz>=2020.1 in c:\\users\\andje\\appdata\\local\\programs\\python\\python310\\lib\\site-packages (from pandas>=1.2->seaborn) (2022.7.1)\n",
      "Requirement already satisfied: six>=1.5 in c:\\users\\andje\\appdata\\local\\programs\\python\\python310\\lib\\site-packages (from python-dateutil>=2.7->matplotlib!=3.6.1,>=3.3->seaborn) (1.16.0)\n"
     ]
    }
   ],
   "source": [
    "!pip install seaborn\n",
    "import pandas as pd\n",
    "import numpy as np\n",
    "import matplotlib.pyplot as plt\n",
    "import seaborn as sns"
   ]
  },
  {
   "cell_type": "markdown",
   "id": "9ca9954c-294a-4115-ab99-d02974f56dae",
   "metadata": {},
   "source": [
    "Učitaćemo dataset-ove koji će nam biti neophodni za demonstraciju. Zatim ćemo prikazati neke osnovne informacije o datasetovima."
   ]
  },
  {
   "cell_type": "code",
   "execution_count": 21,
   "id": "415a7d68-0efb-4d27-9532-4003d172cec2",
   "metadata": {},
   "outputs": [],
   "source": [
    "customer_data = pd.read_csv(\"customer_data.csv\")\n",
    "customer_data.drop([\"Z_CostContact\", \"Z_Revenue\", \"Dt_Customer\"], axis=\"columns\", inplace=True)"
   ]
  },
  {
   "cell_type": "code",
   "execution_count": 22,
   "id": "7b6c2ca9-5219-497f-94c9-8a5499596d9b",
   "metadata": {},
   "outputs": [
    {
     "name": "stdout",
     "output_type": "stream",
     "text": [
      "     ID  Year_Birth   Education Marital_Status   Income  Kidhome  Teenhome  \\\n",
      "0  5524        1957  Graduation         Single  58138.0        0         0   \n",
      "1  2174        1954  Graduation         Single  46344.0        1         1   \n",
      "2  4141        1965  Graduation       Together  71613.0        0         0   \n",
      "3  6182        1984  Graduation       Together  26646.0        1         0   \n",
      "4  5324        1981         PhD        Married  58293.0        1         0   \n",
      "5  7446        1967      Master       Together  62513.0        0         1   \n",
      "6   965        1971  Graduation       Divorced  55635.0        0         1   \n",
      "7  6177        1985         PhD        Married  33454.0        1         0   \n",
      "8  4855        1974         PhD       Together  30351.0        1         0   \n",
      "9  5899        1950         PhD       Together   5648.0        1         1   \n",
      "\n",
      "   Recency  MntWines  MntFruits  ...  NumCatalogPurchases  NumStorePurchases  \\\n",
      "0       58       635         88  ...                   10                  4   \n",
      "1       38        11          1  ...                    1                  2   \n",
      "2       26       426         49  ...                    2                 10   \n",
      "3       26        11          4  ...                    0                  4   \n",
      "4       94       173         43  ...                    3                  6   \n",
      "5       16       520         42  ...                    4                 10   \n",
      "6       34       235         65  ...                    3                  7   \n",
      "7       32        76         10  ...                    0                  4   \n",
      "8       19        14          0  ...                    0                  2   \n",
      "9       68        28          0  ...                    0                  0   \n",
      "\n",
      "   NumWebVisitsMonth  AcceptedCmp3  AcceptedCmp4  AcceptedCmp5  AcceptedCmp1  \\\n",
      "0                  7             0             0             0             0   \n",
      "1                  5             0             0             0             0   \n",
      "2                  4             0             0             0             0   \n",
      "3                  6             0             0             0             0   \n",
      "4                  5             0             0             0             0   \n",
      "5                  6             0             0             0             0   \n",
      "6                  6             0             0             0             0   \n",
      "7                  8             0             0             0             0   \n",
      "8                  9             0             0             0             0   \n",
      "9                 20             1             0             0             0   \n",
      "\n",
      "   AcceptedCmp2  Complain  Response  \n",
      "0             0         0         1  \n",
      "1             0         0         0  \n",
      "2             0         0         0  \n",
      "3             0         0         0  \n",
      "4             0         0         0  \n",
      "5             0         0         0  \n",
      "6             0         0         0  \n",
      "7             0         0         0  \n",
      "8             0         0         1  \n",
      "9             0         0         0  \n",
      "\n",
      "[10 rows x 26 columns]\n",
      "<class 'pandas.core.frame.DataFrame'>\n",
      "RangeIndex: 2240 entries, 0 to 2239\n",
      "Data columns (total 26 columns):\n",
      " #   Column               Non-Null Count  Dtype  \n",
      "---  ------               --------------  -----  \n",
      " 0   ID                   2240 non-null   int64  \n",
      " 1   Year_Birth           2240 non-null   int64  \n",
      " 2   Education            2240 non-null   object \n",
      " 3   Marital_Status       2240 non-null   object \n",
      " 4   Income               2216 non-null   float64\n",
      " 5   Kidhome              2240 non-null   int64  \n",
      " 6   Teenhome             2240 non-null   int64  \n",
      " 7   Recency              2240 non-null   int64  \n",
      " 8   MntWines             2240 non-null   int64  \n",
      " 9   MntFruits            2240 non-null   int64  \n",
      " 10  MntMeatProducts      2240 non-null   int64  \n",
      " 11  MntFishProducts      2240 non-null   int64  \n",
      " 12  MntSweetProducts     2240 non-null   int64  \n",
      " 13  MntGoldProds         2240 non-null   int64  \n",
      " 14  NumDealsPurchases    2240 non-null   int64  \n",
      " 15  NumWebPurchases      2240 non-null   int64  \n",
      " 16  NumCatalogPurchases  2240 non-null   int64  \n",
      " 17  NumStorePurchases    2240 non-null   int64  \n",
      " 18  NumWebVisitsMonth    2240 non-null   int64  \n",
      " 19  AcceptedCmp3         2240 non-null   int64  \n",
      " 20  AcceptedCmp4         2240 non-null   int64  \n",
      " 21  AcceptedCmp5         2240 non-null   int64  \n",
      " 22  AcceptedCmp1         2240 non-null   int64  \n",
      " 23  AcceptedCmp2         2240 non-null   int64  \n",
      " 24  Complain             2240 non-null   int64  \n",
      " 25  Response             2240 non-null   int64  \n",
      "dtypes: float64(1), int64(23), object(2)\n",
      "memory usage: 455.1+ KB\n",
      "None\n"
     ]
    },
    {
     "data": {
      "image/png": "[encoded data removed]",
      "text/plain": [
       "<Figure size 1080x1080 with 25 Axes>"
      ]
     },
     "metadata": {
      "needs_background": "light"
     },
     "output_type": "display_data"
    },
    {
     "data": {
      "image/png": "[encoded data removed]",
      "text/plain": [
       "<Figure size 2880x360 with 1 Axes>"
      ]
     },
     "metadata": {
      "needs_background": "light"
     },
     "output_type": "display_data"
    }
   ],
   "source": [
    "print(customer_data.head(10))\n",
    "print(customer_data.info())\n",
    "\n",
    "customer_data.hist(figsize=(15,15))\n",
    "plt.show()\n",
    "customer_data.boxplot(figsize=(40, 5))\n",
    "plt.show()"
   ]
  },
  {
   "cell_type": "markdown",
   "id": "911ad939-6c09-4655-9203-a36709aa9fc5",
   "metadata": {},
   "source": [
    "## Tipovi atributa u dataset-u"
   ]
  },
  {
   "cell_type": "markdown",
   "id": "8f0b676d-8e97-4c4c-916a-03623e5d4afd",
   "metadata": {},
   "source": [
    "U ovom dataset-u, imamo:\n",
    "- Nominalne atribute: \"Marital_Status\"\n",
    "- Binarne atribute: kolone \"AcceptedCmpX\", \"Complain\", \"Response\"\n",
    "- Ordinalne atribute: \"Education\"\n",
    "- Numeričke atribute zasnovane na intervalima: \"Year_Birth\"\n",
    "- Numeričke atribute zasnovane na proporcijama: \"Income\", \"Kidhome\", \"Teenhome\"..."
   ]
  },
  {
   "cell_type": "markdown",
   "id": "3a37f097-1d1b-42f3-9b8e-963e043c07bc",
   "metadata": {},
   "source": [
    "Kada je u pitanju podela podataka na diskretne i kontinualne, ovde imamo primere i jednih i drugih, i to:\n",
    "- Diskretni: \"Marital_Status\", \"Education\"...\n",
    "- Kontinualni: \"Income\""
   ]
  },
  {
   "cell_type": "markdown",
   "id": "0eac103e-6ccf-456c-a1bd-a12f6fc9cba6",
   "metadata": {},
   "source": [
    "## Mere centralne tendencije"
   ]
  },
  {
   "cell_type": "markdown",
   "id": "2f9e9102-a68b-4e7c-894a-928815aff3e5",
   "metadata": {},
   "source": [
    "Za numberičke podatke u datasetu, izračunaćemo sve tri mere centranle tendencije:\n",
    "- Aritmetičku sredinu\n",
    "- Medijalnu vrednost\n",
    "- Mod podataka\n",
    "- Srednji opseg podataka\n",
    "\n",
    "Za nominalne vrednosti izračunaćemo samo mod podataka, jer ostale dve mere nemaju smisla. Izuzetak je ordinalni podatak \"Education\", za koji ćemo izračunati i medijalnu vrednost. Za kolonu \"ID\" nećemo računati ni jednu od ovih vrednosti, jer je jedina operacija koja ima smisla nad ovim atributom poređenje jednakosti."
   ]
  },
  {
   "cell_type": "code",
   "execution_count": 24,
   "id": "b5358556-ebe8-4603-8284-cc4de41be9d9",
   "metadata": {},
   "outputs": [],
   "source": [
    "numerical_data = customer_data[[\"Income\", \"Kidhome\", \"Teenhome\", \"Recency\", \"MntWines\", \"MntFruits\", \"MntMeatProducts\", \"MntFishProducts\", \"MntSweetProducts\", \n",
    "                                \"MntGoldProds\", \"NumDealsPurchases\", \"NumWebPurchases\", \"NumCatalogPurchases\", \"NumStorePurchases\", \"NumWebVisitsMonth\", \"Year_Birth\"]]\n",
    "nominal_data = customer_data[[\"Response\", \"Complain\", \"AcceptedCmp1\", \"AcceptedCmp2\", \"AcceptedCmp3\", \"AcceptedCmp4\", \"AcceptedCmp5\", \"Education\", \"Marital_Status\"]]"
   ]
  },
  {
   "cell_type": "markdown",
   "id": "8b81ed9e-1c7e-4567-aede-1cc80d472241",
   "metadata": {},
   "source": [
    "Sada ćemo prikazati mere centralne tendencije za numeričke podatke:"
   ]
  },
  {
   "cell_type": "code",
   "execution_count": 26,
   "id": "29981df8-5d8c-4cb7-ab95-4b6dca17a9a4",
   "metadata": {},
   "outputs": [
    {
     "name": "stdout",
     "output_type": "stream",
     "text": [
      "Income                 52247.251354\n",
      "Kidhome                    0.444196\n",
      "Teenhome                   0.506250\n",
      "Recency                   49.109375\n",
      "MntWines                 303.935714\n",
      "MntFruits                 26.302232\n",
      "MntMeatProducts          166.950000\n",
      "MntFishProducts           37.525446\n",
      "MntSweetProducts          27.062946\n",
      "MntGoldProds              44.021875\n",
      "NumDealsPurchases          2.325000\n",
      "NumWebPurchases            4.084821\n",
      "NumCatalogPurchases        2.662054\n",
      "NumStorePurchases          5.790179\n",
      "NumWebVisitsMonth          5.316518\n",
      "Year_Birth              1968.805804\n",
      "dtype: float64\n"
     ]
    }
   ],
   "source": [
    "print(numerical_data.mean())"
   ]
  },
  {
   "cell_type": "code",
   "execution_count": 27,
   "id": "4e1dd7fb-8284-4973-92df-8c51a428c2a5",
   "metadata": {},
   "outputs": [
    {
     "name": "stdout",
     "output_type": "stream",
     "text": [
      "Income                 51381.5\n",
      "Kidhome                    0.0\n",
      "Teenhome                   0.0\n",
      "Recency                   49.0\n",
      "MntWines                 173.5\n",
      "MntFruits                  8.0\n",
      "MntMeatProducts           67.0\n",
      "MntFishProducts           12.0\n",
      "MntSweetProducts           8.0\n",
      "MntGoldProds              24.0\n",
      "NumDealsPurchases          2.0\n",
      "NumWebPurchases            4.0\n",
      "NumCatalogPurchases        2.0\n",
      "NumStorePurchases          5.0\n",
      "NumWebVisitsMonth          6.0\n",
      "Year_Birth              1970.0\n",
      "dtype: float64\n"
     ]
    }
   ],
   "source": [
    "print(numerical_data.median())"
   ]
  },
  {
   "cell_type": "code",
   "execution_count": 31,
   "id": "f9eb4bcb-ff0e-4550-b530-9bd26ad1143b",
   "metadata": {},
   "outputs": [
    {
     "name": "stdout",
     "output_type": "stream",
     "text": [
      "   Income  Kidhome  Teenhome  Recency  MntWines  MntFruits  MntMeatProducts  \\\n",
      "0  7500.0        0         0       56         2          0                7   \n",
      "\n",
      "   MntFishProducts  MntSweetProducts  MntGoldProds  NumDealsPurchases  \\\n",
      "0                0                 0             1                  1   \n",
      "\n",
      "   NumWebPurchases  NumCatalogPurchases  NumStorePurchases  NumWebVisitsMonth  \\\n",
      "0                2                    0                  3                  7   \n",
      "\n",
      "   Year_Birth  \n",
      "0        1976  \n"
     ]
    }
   ],
   "source": [
    "print(numerical_data.mode())"
   ]
  },
  {
   "cell_type": "markdown",
   "id": "4c9d1ff5-572f-45b7-9cf1-753c574963e5",
   "metadata": {},
   "source": [
    "Na koloni \"Income\" demonstriraćemo kako je moguće aproksimirati medijalnu vrednost atributa, za slučajeve kada ima mnogo podataka u dataset-u, pa je operacija traženja medijalne vrednosti skupa.\n",
    "\n",
    "Prvo ćemo podeliti vrednosti atributa \"Income\" u 4 grupe:"
   ]
  },
  {
   "cell_type": "code",
   "execution_count": 37,
   "id": "5d1acc1a-9300-47c2-bad3-59b96c9142d4",
   "metadata": {},
   "outputs": [],
   "source": [
    "income_1 = customer_data[\"Income\"][customer_data[\"Income\"] <= 20000]\n",
    "income_2 = customer_data[\"Income\"][np.logical_and(customer_data[\"Income\"] > 20000, customer_data[\"Income\"] <= 60000)]\n",
    "income_3 = customer_data[\"Income\"][np.logical_and(customer_data[\"Income\"] >= 60000, customer_data[\"Income\"] <= 80000)]\n",
    "income_4 = customer_data[\"Income\"][customer_data[\"Income\"] > 80000]"
   ]
  },
  {
   "cell_type": "markdown",
   "id": "add53f42-67ca-41ed-accd-4c8349ff4bab",
   "metadata": {},
   "source": [
    "Odštampaćemo broj vrednosti unutar svakog od ovih skupova, kako bismo videli koji od njih predstavlja medijalni interval, odnosno onaj interval koji sadrži medijalnu vrednost."
   ]
  },
  {
   "cell_type": "code",
   "execution_count": 41,
   "id": "98d2f78d-2992-4a8b-b532-c78d0769d36d",
   "metadata": {},
   "outputs": [
    {
     "name": "stdout",
     "output_type": "stream",
     "text": [
      "127\n",
      "1248\n",
      "625\n",
      "217\n",
      "Ukupan broj podataka podeljen sa 2:  1120.0\n"
     ]
    }
   ],
   "source": [
    "print(len(income_1))\n",
    "print(len(income_2))\n",
    "print(len(income_3))\n",
    "print(len(income_4))\n",
    "print(\"Ukupan broj podataka podeljen sa 2: \", len(customer_data[\"Income\"])/2)"
   ]
  },
  {
   "cell_type": "markdown",
   "id": "dade2528-7b0e-4504-adff-8e629a5aa3fc",
   "metadata": {},
   "source": [
    "Možemo zaključiti da će se medijalna vrednost atributa nalaziti u skupu 2. Sada ćemo, na odnovu formule, aproksimirati medijalnu vrednost."
   ]
  },
  {
   "cell_type": "code",
   "execution_count": 45,
   "id": "02dc491e-e824-4320-a879-9216935349c1",
   "metadata": {},
   "outputs": [
    {
     "name": "stdout",
     "output_type": "stream",
     "text": [
      "Aproksimirana vrednost:  51853.48557692308\n",
      "Stvarna vrednost: 51381.5\n"
     ]
    }
   ],
   "source": [
    "income_median = np.min(income_2) + ((len(customer_data[\"Income\"]) / 2 - len(income_1)) / len(income_2)) * (np.max(income_2) - np.min(income_2))\n",
    "print(\"Aproksimirana vrednost: \", income_median)\n",
    "print(\"Stvarna vrednost:\", customer_data[\"Income\"].median())"
   ]
  },
  {
   "cell_type": "markdown",
   "id": "e4327693-4e53-4595-89ee-f5331d7db490",
   "metadata": {},
   "source": [
    "Iako se vrednosti ne poklapaju, nisu daleko jedna od druge."
   ]
  },
  {
   "cell_type": "markdown",
   "id": "e502808b-e57f-4a93-bc29-3253a7f20f5e",
   "metadata": {},
   "source": [
    "Sada ćemo prikazati mod nominalnih atributa."
   ]
  },
  {
   "cell_type": "code",
   "execution_count": 47,
   "id": "62e82697-8624-4459-908a-ea429094a050",
   "metadata": {},
   "outputs": [
    {
     "name": "stdout",
     "output_type": "stream",
     "text": [
      "   Response  Complain  AcceptedCmp1  AcceptedCmp2  AcceptedCmp3  AcceptedCmp4  \\\n",
      "0         0         0             0             0             0             0   \n",
      "\n",
      "   AcceptedCmp5   Education Marital_Status  \n",
      "0             0  Graduation        Married  \n"
     ]
    }
   ],
   "source": [
    "print(nominal_data.mode())"
   ]
  },
  {
   "cell_type": "markdown",
   "id": "e5348bb8-e26c-47e1-ac8c-cf41a8120f3c",
   "metadata": {},
   "source": [
    "Prikazaćemo i srednji opseg numeričkih podataka:"
   ]
  },
  {
   "cell_type": "code",
   "execution_count": 53,
   "id": "b157e831-9259-4c42-a813-ad0f84eaf997",
   "metadata": {},
   "outputs": [
    {
     "name": "stdout",
     "output_type": "stream",
     "text": [
      "Income                 334198.0\n",
      "Kidhome                     1.0\n",
      "Teenhome                    1.0\n",
      "Recency                    49.5\n",
      "MntWines                  746.5\n",
      "MntFruits                  99.5\n",
      "MntMeatProducts           862.5\n",
      "MntFishProducts           129.5\n",
      "MntSweetProducts          131.5\n",
      "MntGoldProds              181.0\n",
      "NumDealsPurchases           7.5\n",
      "NumWebPurchases            13.5\n",
      "NumCatalogPurchases        14.0\n",
      "NumStorePurchases           6.5\n",
      "NumWebVisitsMonth          10.0\n",
      "Year_Birth               1944.5\n",
      "dtype: float64\n"
     ]
    }
   ],
   "source": [
    "print((numerical_data.max() + numerical_data.min())/2)"
   ]
  },
  {
   "cell_type": "markdown",
   "id": "1ca56de7-b79c-42b8-80d2-3688798a62ce",
   "metadata": {},
   "source": [
    "Pošto je \"Education\" ordinalni atribut, vrednosti unutar ove kolone konvertovaćemo u vrednosti koje odgovaraju rangu te vrednosti (od najnižeg ka najvišem obrazovanju) i za ovakve vrednosti izračunati i medijalnu vrednost podatka."
   ]
  },
  {
   "cell_type": "code",
   "execution_count": 49,
   "id": "77496daf-890b-4cbf-aa72-9b7f284598e5",
   "metadata": {},
   "outputs": [],
   "source": [
    "education = np.zeros(len(customer_data[\"Education\"]))\n",
    "education[customer_data[\"Education\"] == \"Basic\"] = 1\n",
    "education[customer_data[\"Education\"] == \"2n Cycle\"] = 2\n",
    "education[customer_data[\"Education\"] == \"Graduation\"] = 3\n",
    "education[customer_data[\"Education\"] == \"Master\"] = 4\n",
    "education[customer_data[\"Education\"] == \"PhD\"] = 5"
   ]
  },
  {
   "cell_type": "code",
   "execution_count": 51,
   "id": "18948d31-7d5e-407d-bca5-ed914d33d110",
   "metadata": {},
   "outputs": [
    {
     "name": "stdout",
     "output_type": "stream",
     "text": [
      "3.0\n"
     ]
    }
   ],
   "source": [
    "print(np.median(education))"
   ]
  },
  {
   "cell_type": "markdown",
   "id": "d6d88d76-7893-452e-88f4-e213eb2c0ce3",
   "metadata": {},
   "source": [
    "Pošto je dobijena medijalna vrednost ceo broj, možemo zaključiti da je medijalna vrednost ovog atributa zapravo \"Graduation\". Da smo dobili razlomljenu vrednost, to bi značilo da medijana ovog atributa nije dobro definisana."
   ]
  },
  {
   "cell_type": "markdown",
   "id": "f1bd4408-2d0a-4c28-8d5e-32c18beb6e77",
   "metadata": {},
   "source": [
    "## Mere disperzije podataka"
   ]
  },
  {
   "cell_type": "markdown",
   "id": "601699b1-6f02-4832-adbc-1e1c722cee99",
   "metadata": {},
   "source": [
    "Za numeričke podatke računaćemo i:\n",
    "- Opseg\n",
    "- Kvartile\n",
    "- Interkvartilni opseg\n",
    "- five-number summary\n",
    "- Varijansu\n",
    "- Standardnu devijaciju"
   ]
  },
  {
   "cell_type": "markdown",
   "id": "72f967ee-d28d-4e17-93c3-e8f9be827b9c",
   "metadata": {},
   "source": [
    "Prvo ćemo za ove podatke izračunati opseg."
   ]
  },
  {
   "cell_type": "code",
   "execution_count": 54,
   "id": "28c5f384-2092-4520-aef6-adde343c7505",
   "metadata": {},
   "outputs": [
    {
     "name": "stdout",
     "output_type": "stream",
     "text": [
      "Income                 664936.0\n",
      "Kidhome                     2.0\n",
      "Teenhome                    2.0\n",
      "Recency                    99.0\n",
      "MntWines                 1493.0\n",
      "MntFruits                 199.0\n",
      "MntMeatProducts          1725.0\n",
      "MntFishProducts           259.0\n",
      "MntSweetProducts          263.0\n",
      "MntGoldProds              362.0\n",
      "NumDealsPurchases          15.0\n",
      "NumWebPurchases            27.0\n",
      "NumCatalogPurchases        28.0\n",
      "NumStorePurchases          13.0\n",
      "NumWebVisitsMonth          20.0\n",
      "Year_Birth                103.0\n",
      "dtype: float64\n"
     ]
    }
   ],
   "source": [
    "print(numerical_data.max() - numerical_data.min())"
   ]
  },
  {
   "cell_type": "markdown",
   "id": "066dccdf-307e-4e51-8be1-c152453d646a",
   "metadata": {},
   "source": [
    "Kvartili su na sledećem prikazu označeni sa 25, 50 i 75%. Standardna devijacija je označena sa std. Poslednjih 5 brojeva u tebeli (od min do max) predstavlja five-number summary."
   ]
  },
  {
   "cell_type": "code",
   "execution_count": 55,
   "id": "bd314b4a-e22c-402b-8e64-7821563d067a",
   "metadata": {},
   "outputs": [
    {
     "name": "stdout",
     "output_type": "stream",
     "text": [
      "              Income      Kidhome     Teenhome      Recency     MntWines  \\\n",
      "count    2216.000000  2240.000000  2240.000000  2240.000000  2240.000000   \n",
      "mean    52247.251354     0.444196     0.506250    49.109375   303.935714   \n",
      "std     25173.076661     0.538398     0.544538    28.962453   336.597393   \n",
      "min      1730.000000     0.000000     0.000000     0.000000     0.000000   \n",
      "25%     35303.000000     0.000000     0.000000    24.000000    23.750000   \n",
      "50%     51381.500000     0.000000     0.000000    49.000000   173.500000   \n",
      "75%     68522.000000     1.000000     1.000000    74.000000   504.250000   \n",
      "max    666666.000000     2.000000     2.000000    99.000000  1493.000000   \n",
      "\n",
      "         MntFruits  MntMeatProducts  MntFishProducts  MntSweetProducts  \\\n",
      "count  2240.000000      2240.000000      2240.000000       2240.000000   \n",
      "mean     26.302232       166.950000        37.525446         27.062946   \n",
      "std      39.773434       225.715373        54.628979         41.280498   \n",
      "min       0.000000         0.000000         0.000000          0.000000   \n",
      "25%       1.000000        16.000000         3.000000          1.000000   \n",
      "50%       8.000000        67.000000        12.000000          8.000000   \n",
      "75%      33.000000       232.000000        50.000000         33.000000   \n",
      "max     199.000000      1725.000000       259.000000        263.000000   \n",
      "\n",
      "       MntGoldProds  NumDealsPurchases  NumWebPurchases  NumCatalogPurchases  \\\n",
      "count   2240.000000        2240.000000      2240.000000          2240.000000   \n",
      "mean      44.021875           2.325000         4.084821             2.662054   \n",
      "std       52.167439           1.932238         2.778714             2.923101   \n",
      "min        0.000000           0.000000         0.000000             0.000000   \n",
      "25%        9.000000           1.000000         2.000000             0.000000   \n",
      "50%       24.000000           2.000000         4.000000             2.000000   \n",
      "75%       56.000000           3.000000         6.000000             4.000000   \n",
      "max      362.000000          15.000000        27.000000            28.000000   \n",
      "\n",
      "       NumStorePurchases  NumWebVisitsMonth   Year_Birth  \n",
      "count        2240.000000        2240.000000  2240.000000  \n",
      "mean            5.790179           5.316518  1968.805804  \n",
      "std             3.250958           2.426645    11.984069  \n",
      "min             0.000000           0.000000  1893.000000  \n",
      "25%             3.000000           3.000000  1959.000000  \n",
      "50%             5.000000           6.000000  1970.000000  \n",
      "75%             8.000000           7.000000  1977.000000  \n",
      "max            13.000000          20.000000  1996.000000  \n"
     ]
    }
   ],
   "source": [
    "print(numerical_data.describe())"
   ]
  },
  {
   "cell_type": "markdown",
   "id": "fd33ebf5-08e7-48e3-9cfc-c2a3114bbd0d",
   "metadata": {},
   "source": [
    "Odštampaćemo five-number summary preglednije."
   ]
  },
  {
   "cell_type": "code",
   "execution_count": 59,
   "id": "f75ce671-146c-4ca1-8851-429f8171c1b4",
   "metadata": {},
   "outputs": [
    {
     "name": "stdout",
     "output_type": "stream",
     "text": [
      "Income { 1730.0 35303.0 51381.5 68522.0 666666.0 }\n",
      "Kidhome { 0 0.0 0.0 1.0 2 }\n",
      "Teenhome { 0 0.0 0.0 1.0 2 }\n",
      "Recency { 0 24.0 49.0 74.0 99 }\n",
      "MntWines { 0 23.75 173.5 504.25 1493 }\n",
      "MntFruits { 0 1.0 8.0 33.0 199 }\n",
      "MntMeatProducts { 0 16.0 67.0 232.0 1725 }\n",
      "MntFishProducts { 0 3.0 12.0 50.0 259 }\n",
      "MntSweetProducts { 0 1.0 8.0 33.0 263 }\n",
      "MntGoldProds { 0 9.0 24.0 56.0 362 }\n",
      "NumDealsPurchases { 0 1.0 2.0 3.0 15 }\n",
      "NumWebPurchases { 0 2.0 4.0 6.0 27 }\n",
      "NumCatalogPurchases { 0 0.0 2.0 4.0 28 }\n",
      "NumStorePurchases { 0 3.0 5.0 8.0 13 }\n",
      "NumWebVisitsMonth { 0 3.0 6.0 7.0 20 }\n",
      "Year_Birth { 1893 1959.0 1970.0 1977.0 1996 }\n"
     ]
    }
   ],
   "source": [
    "for column in numerical_data.columns:\n",
    "    print(column, \"{\", numerical_data[column].min(), numerical_data[column].quantile(0.25), numerical_data[column].median(), numerical_data[column].quantile(0.75), numerical_data[column].max(), \"}\")"
   ]
  },
  {
   "cell_type": "markdown",
   "id": "192bd3c1-8aed-40d7-b0da-3a5a7fcf0d34",
   "metadata": {},
   "source": [
    "Varijansa predstavlja kvadrat standardne devijacije i biće prikazana ispod:"
   ]
  },
  {
   "cell_type": "code",
   "execution_count": 61,
   "id": "7216427e-ab60-433a-9fd8-b3318c2bb451",
   "metadata": {},
   "outputs": [
    {
     "name": "stdout",
     "output_type": "stream",
     "text": [
      "Income                 6.336838e+08\n",
      "Kidhome                2.898725e-01\n",
      "Teenhome               2.965219e-01\n",
      "Recency                8.388237e+02\n",
      "MntWines               1.132978e+05\n",
      "MntFruits              1.581926e+03\n",
      "MntMeatProducts        5.094743e+04\n",
      "MntFishProducts        2.984325e+03\n",
      "MntSweetProducts       1.704080e+03\n",
      "MntGoldProds           2.721442e+03\n",
      "NumDealsPurchases      3.733542e+00\n",
      "NumWebPurchases        7.721252e+00\n",
      "NumCatalogPurchases    8.544517e+00\n",
      "NumStorePurchases      1.056873e+01\n",
      "NumWebVisitsMonth      5.888606e+00\n",
      "Year_Birth             1.436179e+02\n",
      "dtype: float64\n"
     ]
    }
   ],
   "source": [
    "print(numerical_data.std() ** 2)"
   ]
  },
  {
   "cell_type": "markdown",
   "id": "866e2b63-f247-4339-8b73-e7551e79d921",
   "metadata": {},
   "source": [
    "## Mere oblika distribucije podataka"
   ]
  },
  {
   "cell_type": "code",
   "execution_count": null,
   "id": "0270abfb-1570-4163-a47f-d1c3e5502c9a",
   "metadata": {},
   "outputs": [],
   "source": []
  }
 ],
 "metadata": {
  "kernelspec": {
   "display_name": "Python 3 (ipykernel)",
   "language": "python",
   "name": "python3"
  },
  "language_info": {
   "codemirror_mode": {
    "name": "ipython",
    "version": 3
   },
   "file_extension": ".py",
   "mimetype": "text/x-python",
   "name": "python",
   "nbconvert_exporter": "python",
   "pygments_lexer": "ipython3",
   "version": "3.10.2"
  }
 },
 "nbformat": 4,
 "nbformat_minor": 5
}
