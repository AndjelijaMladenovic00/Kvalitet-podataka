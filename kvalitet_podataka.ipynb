{
 "cells": [
  {
   "cell_type": "markdown",
   "id": "fdb4ee4d-983a-4eb0-8238-91bd21d9602f",
   "metadata": {},
   "source": [
    "# Kvalitet podataka"
   ]
  },
  {
   "cell_type": "code",
   "execution_count": 67,
   "id": "befae011-c8c2-4e72-bab1-70d1d9c05326",
   "metadata": {},
   "outputs": [],
   "source": [
    "import pandas as pd\n",
    "import numpy as np\n",
    "import matplotlib.pyplot as plt\n",
    "import seaborn as sns"
   ]
  },
  {
   "cell_type": "markdown",
   "id": "9ca9954c-294a-4115-ab99-d02974f56dae",
   "metadata": {},
   "source": [
    "Učitaćemo dataset koji će nam biti neophodan za demonstraciju. Zatim ćemo prikazati neke osnovne informacije o datasetu."
   ]
  },
  {
   "cell_type": "code",
   "execution_count": 68,
   "id": "415a7d68-0efb-4d27-9532-4003d172cec2",
   "metadata": {},
   "outputs": [],
   "source": [
    "customer_data = pd.read_csv(\"customer_data.csv\")\n",
    "customer_data.drop([\"Z_CostContact\", \"Z_Revenue\", \"Dt_Customer\"], axis=\"columns\", inplace=True)"
   ]
  },
  {
   "cell_type": "code",
   "execution_count": 69,
   "id": "7b6c2ca9-5219-497f-94c9-8a5499596d9b",
   "metadata": {},
   "outputs": [
    {
     "name": "stdout",
     "output_type": "stream",
     "text": [
      "     ID  Year_Birth   Education Marital_Status   Income  Kidhome  Teenhome  \\\n",
      "0  5524        1957  Graduation         Single  58138.0        0         0   \n",
      "1  2174        1954  Graduation         Single  46344.0        1         1   \n",
      "2  4141        1965  Graduation       Together  71613.0        0         0   \n",
      "3  6182        1984  Graduation       Together  26646.0        1         0   \n",
      "4  5324        1981         PhD        Married  58293.0        1         0   \n",
      "5  7446        1967      Master       Together  62513.0        0         1   \n",
      "6   965        1971  Graduation       Divorced  55635.0        0         1   \n",
      "7  6177        1985         PhD        Married  33454.0        1         0   \n",
      "8  4855        1974         PhD       Together  30351.0        1         0   \n",
      "9  5899        1950         PhD       Together   5648.0        1         1   \n",
      "\n",
      "   Recency  MntWines  MntFruits  ...  NumCatalogPurchases  NumStorePurchases  \\\n",
      "0       58       635         88  ...                   10                  4   \n",
      "1       38        11          1  ...                    1                  2   \n",
      "2       26       426         49  ...                    2                 10   \n",
      "3       26        11          4  ...                    0                  4   \n",
      "4       94       173         43  ...                    3                  6   \n",
      "5       16       520         42  ...                    4                 10   \n",
      "6       34       235         65  ...                    3                  7   \n",
      "7       32        76         10  ...                    0                  4   \n",
      "8       19        14          0  ...                    0                  2   \n",
      "9       68        28          0  ...                    0                  0   \n",
      "\n",
      "   NumWebVisitsMonth  AcceptedCmp3  AcceptedCmp4  AcceptedCmp5  AcceptedCmp1  \\\n",
      "0                  7             0             0             0             0   \n",
      "1                  5             0             0             0             0   \n",
      "2                  4             0             0             0             0   \n",
      "3                  6             0             0             0             0   \n",
      "4                  5             0             0             0             0   \n",
      "5                  6             0             0             0             0   \n",
      "6                  6             0             0             0             0   \n",
      "7                  8             0             0             0             0   \n",
      "8                  9             0             0             0             0   \n",
      "9                 20             1             0             0             0   \n",
      "\n",
      "   AcceptedCmp2  Complain  Response  \n",
      "0             0         0         1  \n",
      "1             0         0         0  \n",
      "2             0         0         0  \n",
      "3             0         0         0  \n",
      "4             0         0         0  \n",
      "5             0         0         0  \n",
      "6             0         0         0  \n",
      "7             0         0         0  \n",
      "8             0         0         1  \n",
      "9             0         0         0  \n",
      "\n",
      "[10 rows x 26 columns]\n",
      "<class 'pandas.core.frame.DataFrame'>\n",
      "RangeIndex: 2240 entries, 0 to 2239\n",
      "Data columns (total 26 columns):\n",
      " #   Column               Non-Null Count  Dtype  \n",
      "---  ------               --------------  -----  \n",
      " 0   ID                   2240 non-null   int64  \n",
      " 1   Year_Birth           2240 non-null   int64  \n",
      " 2   Education            2240 non-null   object \n",
      " 3   Marital_Status       2240 non-null   object \n",
      " 4   Income               2216 non-null   float64\n",
      " 5   Kidhome              2240 non-null   int64  \n",
      " 6   Teenhome             2240 non-null   int64  \n",
      " 7   Recency              2240 non-null   int64  \n",
      " 8   MntWines             2240 non-null   int64  \n",
      " 9   MntFruits            2240 non-null   int64  \n",
      " 10  MntMeatProducts      2240 non-null   int64  \n",
      " 11  MntFishProducts      2240 non-null   int64  \n",
      " 12  MntSweetProducts     2240 non-null   int64  \n",
      " 13  MntGoldProds         2240 non-null   int64  \n",
      " 14  NumDealsPurchases    2240 non-null   int64  \n",
      " 15  NumWebPurchases      2240 non-null   int64  \n",
      " 16  NumCatalogPurchases  2240 non-null   int64  \n",
      " 17  NumStorePurchases    2240 non-null   int64  \n",
      " 18  NumWebVisitsMonth    2240 non-null   int64  \n",
      " 19  AcceptedCmp3         2240 non-null   int64  \n",
      " 20  AcceptedCmp4         2240 non-null   int64  \n",
      " 21  AcceptedCmp5         2240 non-null   int64  \n",
      " 22  AcceptedCmp1         2240 non-null   int64  \n",
      " 23  AcceptedCmp2         2240 non-null   int64  \n",
      " 24  Complain             2240 non-null   int64  \n",
      " 25  Response             2240 non-null   int64  \n",
      "dtypes: float64(1), int64(23), object(2)\n",
      "memory usage: 455.1+ KB\n",
      "None\n"
     ]
    },
    {
     "data": {
      "image/png": "[encoded data removed]",
      "text/plain": [
       "<Figure size 1080x1080 with 25 Axes>"
      ]
     },
     "metadata": {
      "needs_background": "light"
     },
     "output_type": "display_data"
    }
   ],
   "source": [
    "print(customer_data.head(10))\n",
    "print(customer_data.info())\n",
    "\n",
    "customer_data.hist(figsize=(15,15))\n",
    "plt.show()"
   ]
  },
  {
   "cell_type": "markdown",
   "id": "911ad939-6c09-4655-9203-a36709aa9fc5",
   "metadata": {},
   "source": [
    "## Tipovi atributa u dataset-u"
   ]
  },
  {
   "cell_type": "markdown",
   "id": "8f0b676d-8e97-4c4c-916a-03623e5d4afd",
   "metadata": {},
   "source": [
    "U ovom dataset-u, imamo (X je skraćeni zapis za sve kolone odgovarajućeg oblika):\n",
    "- Nominalne atribute: \"Marital_Status\"\n",
    "- Binarne atribute: kolone \"AcceptedCmpX\", \"Complain\", \"Response\"\n",
    "- Ordinalne atribute: \"Education\"\n",
    "- Numeričke atribute zasnovane na intervalima: \"Year_Birth\"\n",
    "- Numeričke atribute zasnovane na razmeri: \"Income\", \"Kidhome\", \"Teenhome\", \"MntX\", \"NumX\", \"Recency\""
   ]
  },
  {
   "cell_type": "markdown",
   "id": "219310a4-96f3-4b15-8569-40c7d023dc1d",
   "metadata": {},
   "source": [
    "Pošto su svi binarni atributi u dataset-u asimetrični (stanje označeno sa 1 je bitnije/poželjnije od onog označenog nulom), transformisaćemo kolone \"Kidhome\" i \"Teenhome\" u binarne, tako što ćemo sa 1 označiti domaćinstva u kojima deca/tinejdžeri žive, a sa 0 ona u kojima ne žive. Ni jedno od ovih stanja nije poželjnije od drugog, tako da će ovo biti simetrični binarni atributi."
   ]
  },
  {
   "cell_type": "code",
   "execution_count": 70,
   "id": "5824c78e-71db-490a-a74b-0f2b8ed1e58f",
   "metadata": {},
   "outputs": [],
   "source": [
    "customer_data[\"Kidhome\"] = [1 if x > 0 else 0 for x in customer_data[\"Kidhome\"]]\n",
    "customer_data[\"Teenhome\"] = [1 if x > 0 else 0 for x in customer_data[\"Teenhome\"]]"
   ]
  },
  {
   "cell_type": "markdown",
   "id": "3a37f097-1d1b-42f3-9b8e-963e043c07bc",
   "metadata": {},
   "source": [
    "Kada je u pitanju podela podataka na diskretne i kontinualne, ovde imamo primere i jednih i drugih, i to:\n",
    "- Diskretni: \"Marital_Status\", \"Education\"...\n",
    "- Kontinualni: \"Income\"..."
   ]
  },
  {
   "cell_type": "markdown",
   "id": "4c086121-57de-4ea1-83e9-95037ad266f8",
   "metadata": {},
   "source": [
    "## Transformacija numeričkih podataka u ordinalne\n",
    "\n",
    "U radu, napomenuli smo da se ordinalni atributi mogu dobiti diskretizacijom numeričkih podataka na konačan broj opsega vrednosti. Kako bismo ovo pokazali, transformisaćemo kolonu \"Recency\" tako da oznaka 0 označava osobe koje su sajt posetile u poslednjih 30 dana, oznaka 1 osobe koje su sajt posetile u poslednjih 60 dana i oznaka 2 one koji su sajt posetili pre više od 60 dana."
   ]
  },
  {
   "cell_type": "code",
   "execution_count": 71,
   "id": "0a057aca-0dff-47b5-8d4f-296cd89c47b9",
   "metadata": {},
   "outputs": [
    {
     "name": "stdout",
     "output_type": "stream",
     "text": [
      "     ID  Year_Birth   Education Marital_Status   Income  Kidhome  Teenhome  \\\n",
      "0  5524        1957  Graduation         Single  58138.0        0         0   \n",
      "1  2174        1954  Graduation         Single  46344.0        1         1   \n",
      "2  4141        1965  Graduation       Together  71613.0        0         0   \n",
      "3  6182        1984  Graduation       Together  26646.0        1         0   \n",
      "4  5324        1981         PhD        Married  58293.0        1         0   \n",
      "5  7446        1967      Master       Together  62513.0        0         1   \n",
      "6   965        1971  Graduation       Divorced  55635.0        0         1   \n",
      "7  6177        1985         PhD        Married  33454.0        1         0   \n",
      "8  4855        1974         PhD       Together  30351.0        1         0   \n",
      "9  5899        1950         PhD       Together   5648.0        1         1   \n",
      "\n",
      "   Recency  MntWines  MntFruits  ...  NumCatalogPurchases  NumStorePurchases  \\\n",
      "0        1       635         88  ...                   10                  4   \n",
      "1        1        11          1  ...                    1                  2   \n",
      "2        0       426         49  ...                    2                 10   \n",
      "3        0        11          4  ...                    0                  4   \n",
      "4        2       173         43  ...                    3                  6   \n",
      "5        0       520         42  ...                    4                 10   \n",
      "6        1       235         65  ...                    3                  7   \n",
      "7        1        76         10  ...                    0                  4   \n",
      "8        0        14          0  ...                    0                  2   \n",
      "9        2        28          0  ...                    0                  0   \n",
      "\n",
      "   NumWebVisitsMonth  AcceptedCmp3  AcceptedCmp4  AcceptedCmp5  AcceptedCmp1  \\\n",
      "0                  7             0             0             0             0   \n",
      "1                  5             0             0             0             0   \n",
      "2                  4             0             0             0             0   \n",
      "3                  6             0             0             0             0   \n",
      "4                  5             0             0             0             0   \n",
      "5                  6             0             0             0             0   \n",
      "6                  6             0             0             0             0   \n",
      "7                  8             0             0             0             0   \n",
      "8                  9             0             0             0             0   \n",
      "9                 20             1             0             0             0   \n",
      "\n",
      "   AcceptedCmp2  Complain  Response  \n",
      "0             0         0         1  \n",
      "1             0         0         0  \n",
      "2             0         0         0  \n",
      "3             0         0         0  \n",
      "4             0         0         0  \n",
      "5             0         0         0  \n",
      "6             0         0         0  \n",
      "7             0         0         0  \n",
      "8             0         0         1  \n",
      "9             0         0         0  \n",
      "\n",
      "[10 rows x 26 columns]\n",
      "<class 'pandas.core.frame.DataFrame'>\n",
      "RangeIndex: 2240 entries, 0 to 2239\n",
      "Data columns (total 26 columns):\n",
      " #   Column               Non-Null Count  Dtype  \n",
      "---  ------               --------------  -----  \n",
      " 0   ID                   2240 non-null   int64  \n",
      " 1   Year_Birth           2240 non-null   int64  \n",
      " 2   Education            2240 non-null   object \n",
      " 3   Marital_Status       2240 non-null   object \n",
      " 4   Income               2216 non-null   float64\n",
      " 5   Kidhome              2240 non-null   int64  \n",
      " 6   Teenhome             2240 non-null   int64  \n",
      " 7   Recency              2240 non-null   int64  \n",
      " 8   MntWines             2240 non-null   int64  \n",
      " 9   MntFruits            2240 non-null   int64  \n",
      " 10  MntMeatProducts      2240 non-null   int64  \n",
      " 11  MntFishProducts      2240 non-null   int64  \n",
      " 12  MntSweetProducts     2240 non-null   int64  \n",
      " 13  MntGoldProds         2240 non-null   int64  \n",
      " 14  NumDealsPurchases    2240 non-null   int64  \n",
      " 15  NumWebPurchases      2240 non-null   int64  \n",
      " 16  NumCatalogPurchases  2240 non-null   int64  \n",
      " 17  NumStorePurchases    2240 non-null   int64  \n",
      " 18  NumWebVisitsMonth    2240 non-null   int64  \n",
      " 19  AcceptedCmp3         2240 non-null   int64  \n",
      " 20  AcceptedCmp4         2240 non-null   int64  \n",
      " 21  AcceptedCmp5         2240 non-null   int64  \n",
      " 22  AcceptedCmp1         2240 non-null   int64  \n",
      " 23  AcceptedCmp2         2240 non-null   int64  \n",
      " 24  Complain             2240 non-null   int64  \n",
      " 25  Response             2240 non-null   int64  \n",
      "dtypes: float64(1), int64(23), object(2)\n",
      "memory usage: 455.1+ KB\n",
      "None\n"
     ]
    }
   ],
   "source": [
    "customer_data[\"Recency\"] = [0 if x <=30 else 1 if  (30 < x and x <=60) else 2 for x in customer_data[\"Recency\"]]\n",
    "\n",
    "print(customer_data.head(10))\n",
    "print(customer_data.info())"
   ]
  },
  {
   "cell_type": "markdown",
   "id": "0eac103e-6ccf-456c-a1bd-a12f6fc9cba6",
   "metadata": {},
   "source": [
    "## Mere centralne tendencije"
   ]
  },
  {
   "cell_type": "markdown",
   "id": "2f9e9102-a68b-4e7c-894a-928815aff3e5",
   "metadata": {},
   "source": [
    "Za numberičke podatke u datasetu, izračunaćemo sve u radu pomenute mere centranle tendencije:\n",
    "- Aritmetičku sredinu\n",
    "- Medijalnu vrednost\n",
    "- Mod podataka\n",
    "- Srednji opseg podataka\n",
    "\n",
    "Za nominalne vrednosti izračunaćemo samo mod podataka, jer ostale mere nemaju smisla. Izuzetak je ordinalni podatak \"Education\", za koji ćemo izračunati i medijalnu vrednost. Za kolonu \"ID\" nećemo računati ni jednu od ovih vrednosti, jer je jedina operacija koja ima smisla nad ovim atributom poređenje jednakosti."
   ]
  },
  {
   "cell_type": "code",
   "execution_count": 72,
   "id": "b5358556-ebe8-4603-8284-cc4de41be9d9",
   "metadata": {},
   "outputs": [],
   "source": [
    "numerical_data = customer_data[[\"Income\",\"MntWines\", \"MntFruits\", \"MntMeatProducts\", \"MntFishProducts\", \"MntSweetProducts\", \n",
    "                                \"MntGoldProds\", \"NumDealsPurchases\", \"NumWebPurchases\", \"NumCatalogPurchases\", \"NumStorePurchases\", \"NumWebVisitsMonth\", \"Year_Birth\"]]\n",
    "nominal_data = customer_data[[\"Kidhome\", \"Teenhome\", \"Recency\", \"Response\", \"Complain\", \"AcceptedCmp1\", \"AcceptedCmp2\", \"AcceptedCmp3\", \"AcceptedCmp4\", \"AcceptedCmp5\", \"Education\", \"Marital_Status\"]]"
   ]
  },
  {
   "cell_type": "markdown",
   "id": "8b81ed9e-1c7e-4567-aede-1cc80d472241",
   "metadata": {},
   "source": [
    "Sada ćemo prikazati mere centralne tendencije za numeričke podatke:"
   ]
  },
  {
   "cell_type": "code",
   "execution_count": 73,
   "id": "29981df8-5d8c-4cb7-ab95-4b6dca17a9a4",
   "metadata": {},
   "outputs": [
    {
     "name": "stdout",
     "output_type": "stream",
     "text": [
      "Income                 52247.251354\n",
      "MntWines                 303.935714\n",
      "MntFruits                 26.302232\n",
      "MntMeatProducts          166.950000\n",
      "MntFishProducts           37.525446\n",
      "MntSweetProducts          27.062946\n",
      "MntGoldProds              44.021875\n",
      "NumDealsPurchases          2.325000\n",
      "NumWebPurchases            4.084821\n",
      "NumCatalogPurchases        2.662054\n",
      "NumStorePurchases          5.790179\n",
      "NumWebVisitsMonth          5.316518\n",
      "Year_Birth              1968.805804\n",
      "dtype: float64\n"
     ]
    }
   ],
   "source": [
    "print(numerical_data.mean())"
   ]
  },
  {
   "cell_type": "markdown",
   "id": "c0eb53f5-cd91-4cdf-81cf-a21a7e81a807",
   "metadata": {},
   "source": [
    "U radu, pomenuli smo da je moguće računati i težinsku srednju vrednost podataka. Ovo ćemo demonstrirati tako što ćemo izračunati srednju vrednost kolone \"Income\", ali tako da je težina onih korisnika koji su sajt posetili u zadnjih trideset dana 1, a ostalih korisnika 0 (u prevodu, računamo srednju vrednost kolone \"Income\" za korisnike koji su sajt posetili u zadnjih 30 dana)."
   ]
  },
  {
   "cell_type": "code",
   "execution_count": 74,
   "id": "ffc7b5bd-35ad-45c5-929b-028acf02d542",
   "metadata": {},
   "outputs": [
    {
     "name": "stdout",
     "output_type": "stream",
     "text": [
      "52587.2955801105\n"
     ]
    }
   ],
   "source": [
    "income_mean_recent_users = np.sum((customer_data[\"Recency\"] == 0) * customer_data[\"Income\"]) / np.sum(customer_data[\"Recency\"] == 0)\n",
    "print(income_mean_recent_users)"
   ]
  },
  {
   "cell_type": "markdown",
   "id": "76161376-7d7e-4968-899b-b032859985a6",
   "metadata": {},
   "source": [
    "Pomenuli smo i da je aritmetička sredina mera centralne tendencije koja je jako osetljiva na ekstremne vrednosti. Demostriraćemo to na koloni \"Income\", tako što ćemo uporediti aritmetičku sredinu ovog atributa na celom dataset-u, i na delu podataka koji su manji od 100000. Može se primetiti ne mala razlika u dobijenim vrednostima."
   ]
  },
  {
   "cell_type": "code",
   "execution_count": 75,
   "id": "f97dbb48-afcb-4522-bb06-b30d5a1c241c",
   "metadata": {},
   "outputs": [
    {
     "name": "stdout",
     "output_type": "stream",
     "text": [
      "Na celom dataset-u:  52247.25135379061\n",
      "Bez ekstremnih vrednosti:  51512.04993191103\n",
      "Razlika:  735.2014218795812\n"
     ]
    }
   ],
   "source": [
    "print(\"Na celom dataset-u: \", customer_data[\"Income\"].mean())\n",
    "income_mean_no_outliers = np.sum((customer_data[\"Income\"] < 100000) * customer_data[\"Income\"]) / np.sum(customer_data[\"Income\"] < 100000)\n",
    "print(\"Bez ekstremnih vrednosti: \", income_mean_no_outliers)\n",
    "print(\"Razlika: \", customer_data[\"Income\"].mean() - income_mean_no_outliers)"
   ]
  },
  {
   "cell_type": "code",
   "execution_count": 76,
   "id": "4e1dd7fb-8284-4973-92df-8c51a428c2a5",
   "metadata": {},
   "outputs": [
    {
     "name": "stdout",
     "output_type": "stream",
     "text": [
      "Income                 51381.5\n",
      "MntWines                 173.5\n",
      "MntFruits                  8.0\n",
      "MntMeatProducts           67.0\n",
      "MntFishProducts           12.0\n",
      "MntSweetProducts           8.0\n",
      "MntGoldProds              24.0\n",
      "NumDealsPurchases          2.0\n",
      "NumWebPurchases            4.0\n",
      "NumCatalogPurchases        2.0\n",
      "NumStorePurchases          5.0\n",
      "NumWebVisitsMonth          6.0\n",
      "Year_Birth              1970.0\n",
      "dtype: float64\n"
     ]
    }
   ],
   "source": [
    "print(numerical_data.median())"
   ]
  },
  {
   "cell_type": "markdown",
   "id": "4c9d1ff5-572f-45b7-9cf1-753c574963e5",
   "metadata": {},
   "source": [
    "Na koloni \"Income\" demonstriraćemo kako je moguće aproksimirati medijalnu vrednost atributa, za slučajeve kada ima mnogo podataka u dataset-u, pa je operacija traženja medijalne vrednosti skupa.\n",
    "\n",
    "Prvo ćemo podeliti vrednosti atributa \"Income\" u 4 grupe:"
   ]
  },
  {
   "cell_type": "code",
   "execution_count": 77,
   "id": "5d1acc1a-9300-47c2-bad3-59b96c9142d4",
   "metadata": {},
   "outputs": [],
   "source": [
    "income_1 = customer_data[\"Income\"][customer_data[\"Income\"] <= 20000]\n",
    "income_2 = customer_data[\"Income\"][np.logical_and(customer_data[\"Income\"] > 20000, customer_data[\"Income\"] <= 60000)]\n",
    "income_3 = customer_data[\"Income\"][np.logical_and(customer_data[\"Income\"] >= 60000, customer_data[\"Income\"] <= 80000)]\n",
    "income_4 = customer_data[\"Income\"][customer_data[\"Income\"] > 80000]"
   ]
  },
  {
   "cell_type": "markdown",
   "id": "add53f42-67ca-41ed-accd-4c8349ff4bab",
   "metadata": {},
   "source": [
    "Odštampaćemo broj vrednosti unutar svakog od ovih skupova, kako bismo videli koji od njih predstavlja medijalni interval, odnosno onaj interval koji sadrži medijalnu vrednost."
   ]
  },
  {
   "cell_type": "code",
   "execution_count": 78,
   "id": "98d2f78d-2992-4a8b-b532-c78d0769d36d",
   "metadata": {},
   "outputs": [
    {
     "name": "stdout",
     "output_type": "stream",
     "text": [
      "127\n",
      "1248\n",
      "625\n",
      "217\n",
      "Ukupan broj podataka podeljen sa 2:  1120.0\n"
     ]
    }
   ],
   "source": [
    "print(len(income_1))\n",
    "print(len(income_2))\n",
    "print(len(income_3))\n",
    "print(len(income_4))\n",
    "print(\"Ukupan broj podataka podeljen sa 2: \", len(customer_data[\"Income\"])/2)"
   ]
  },
  {
   "cell_type": "markdown",
   "id": "dade2528-7b0e-4504-adff-8e629a5aa3fc",
   "metadata": {},
   "source": [
    "Možemo zaključiti da će se medijalna vrednost atributa nalaziti u skupu 2. Sada ćemo, na odnovu formule, aproksimirati medijalnu vrednost."
   ]
  },
  {
   "cell_type": "code",
   "execution_count": 79,
   "id": "02dc491e-e824-4320-a879-9216935349c1",
   "metadata": {},
   "outputs": [
    {
     "name": "stdout",
     "output_type": "stream",
     "text": [
      "Aproksimirana vrednost:  51853.48557692308\n",
      "Stvarna vrednost: 51381.5\n"
     ]
    }
   ],
   "source": [
    "income_median = np.min(income_2) + ((len(customer_data[\"Income\"]) / 2 - len(income_1)) / len(income_2)) * (np.max(income_2) - np.min(income_2))\n",
    "print(\"Aproksimirana vrednost: \", income_median)\n",
    "print(\"Stvarna vrednost:\", customer_data[\"Income\"].median())"
   ]
  },
  {
   "cell_type": "markdown",
   "id": "e4327693-4e53-4595-89ee-f5331d7db490",
   "metadata": {},
   "source": [
    "Iako se vrednosti ne poklapaju, nisu daleko jedna od druge."
   ]
  },
  {
   "cell_type": "code",
   "execution_count": 80,
   "id": "f9eb4bcb-ff0e-4550-b530-9bd26ad1143b",
   "metadata": {},
   "outputs": [
    {
     "name": "stdout",
     "output_type": "stream",
     "text": [
      "   Income  MntWines  MntFruits  MntMeatProducts  MntFishProducts  \\\n",
      "0  7500.0         2          0                7                0   \n",
      "\n",
      "   MntSweetProducts  MntGoldProds  NumDealsPurchases  NumWebPurchases  \\\n",
      "0                 0             1                  1                2   \n",
      "\n",
      "   NumCatalogPurchases  NumStorePurchases  NumWebVisitsMonth  Year_Birth  \n",
      "0                    0                  3                  7        1976  \n"
     ]
    }
   ],
   "source": [
    "print(numerical_data.mode())"
   ]
  },
  {
   "cell_type": "markdown",
   "id": "e502808b-e57f-4a93-bc29-3253a7f20f5e",
   "metadata": {},
   "source": [
    "Sada ćemo prikazati mod nominalnih atributa."
   ]
  },
  {
   "cell_type": "code",
   "execution_count": 81,
   "id": "62e82697-8624-4459-908a-ea429094a050",
   "metadata": {},
   "outputs": [
    {
     "name": "stdout",
     "output_type": "stream",
     "text": [
      "   Kidhome  Teenhome  Recency  Response  Complain  AcceptedCmp1  AcceptedCmp2  \\\n",
      "0        0         0        2         0         0             0             0   \n",
      "\n",
      "   AcceptedCmp3  AcceptedCmp4  AcceptedCmp5   Education Marital_Status  \n",
      "0             0             0             0  Graduation        Married  \n"
     ]
    }
   ],
   "source": [
    "print(nominal_data.mode())"
   ]
  },
  {
   "cell_type": "markdown",
   "id": "e5348bb8-e26c-47e1-ac8c-cf41a8120f3c",
   "metadata": {},
   "source": [
    "Prikazaćemo i srednji opseg numeričkih podataka:"
   ]
  },
  {
   "cell_type": "code",
   "execution_count": 82,
   "id": "b157e831-9259-4c42-a813-ad0f84eaf997",
   "metadata": {},
   "outputs": [
    {
     "name": "stdout",
     "output_type": "stream",
     "text": [
      "Income                 334198.0\n",
      "MntWines                  746.5\n",
      "MntFruits                  99.5\n",
      "MntMeatProducts           862.5\n",
      "MntFishProducts           129.5\n",
      "MntSweetProducts          131.5\n",
      "MntGoldProds              181.0\n",
      "NumDealsPurchases           7.5\n",
      "NumWebPurchases            13.5\n",
      "NumCatalogPurchases        14.0\n",
      "NumStorePurchases           6.5\n",
      "NumWebVisitsMonth          10.0\n",
      "Year_Birth               1944.5\n",
      "dtype: float64\n"
     ]
    }
   ],
   "source": [
    "print((numerical_data.max() + numerical_data.min())/2)"
   ]
  },
  {
   "cell_type": "markdown",
   "id": "1ca56de7-b79c-42b8-80d2-3688798a62ce",
   "metadata": {},
   "source": [
    "Pošto je \"Education\" ordinalni atribut, vrednosti unutar ove kolone konvertovaćemo u vrednosti koje odgovaraju rangu te vrednosti (od najnižeg ka najvišem obrazovanju) i za ovakve vrednosti izračunati i medijalnu vrednost podatka."
   ]
  },
  {
   "cell_type": "code",
   "execution_count": 83,
   "id": "77496daf-890b-4cbf-aa72-9b7f284598e5",
   "metadata": {},
   "outputs": [],
   "source": [
    "education = np.zeros(len(customer_data[\"Education\"]))\n",
    "education[customer_data[\"Education\"] == \"Basic\"] = 1\n",
    "education[customer_data[\"Education\"] == \"2n Cycle\"] = 2\n",
    "education[customer_data[\"Education\"] == \"Graduation\"] = 3\n",
    "education[customer_data[\"Education\"] == \"Master\"] = 4\n",
    "education[customer_data[\"Education\"] == \"PhD\"] = 5"
   ]
  },
  {
   "cell_type": "code",
   "execution_count": 84,
   "id": "18948d31-7d5e-407d-bca5-ed914d33d110",
   "metadata": {},
   "outputs": [
    {
     "name": "stdout",
     "output_type": "stream",
     "text": [
      "3.0\n"
     ]
    }
   ],
   "source": [
    "print(np.median(education))"
   ]
  },
  {
   "cell_type": "markdown",
   "id": "d6d88d76-7893-452e-88f4-e213eb2c0ce3",
   "metadata": {},
   "source": [
    "Pošto je dobijena medijalna vrednost ceo broj, možemo zaključiti da je medijalna vrednost ovog atributa zapravo \"Graduation\". Da smo dobili razlomljenu vrednost, to bi značilo da medijana ovog atributa nije dobro definisana."
   ]
  },
  {
   "cell_type": "markdown",
   "id": "f1bd4408-2d0a-4c28-8d5e-32c18beb6e77",
   "metadata": {},
   "source": [
    "## Mere disperzije podataka"
   ]
  },
  {
   "cell_type": "markdown",
   "id": "601699b1-6f02-4832-adbc-1e1c722cee99",
   "metadata": {},
   "source": [
    "Za numeričke podatke računaćemo i:\n",
    "- Opseg\n",
    "- Kvartile\n",
    "- Interkvartilni opseg\n",
    "- Five-number summary\n",
    "- Varijansu\n",
    "- Standardnu devijaciju"
   ]
  },
  {
   "cell_type": "markdown",
   "id": "72f967ee-d28d-4e17-93c3-e8f9be827b9c",
   "metadata": {},
   "source": [
    "Prvo ćemo za ove podatke izračunati opseg."
   ]
  },
  {
   "cell_type": "code",
   "execution_count": 85,
   "id": "28c5f384-2092-4520-aef6-adde343c7505",
   "metadata": {},
   "outputs": [
    {
     "name": "stdout",
     "output_type": "stream",
     "text": [
      "Income                 664936.0\n",
      "MntWines                 1493.0\n",
      "MntFruits                 199.0\n",
      "MntMeatProducts          1725.0\n",
      "MntFishProducts           259.0\n",
      "MntSweetProducts          263.0\n",
      "MntGoldProds              362.0\n",
      "NumDealsPurchases          15.0\n",
      "NumWebPurchases            27.0\n",
      "NumCatalogPurchases        28.0\n",
      "NumStorePurchases          13.0\n",
      "NumWebVisitsMonth          20.0\n",
      "Year_Birth                103.0\n",
      "dtype: float64\n"
     ]
    }
   ],
   "source": [
    "print(numerical_data.max() - numerical_data.min())"
   ]
  },
  {
   "cell_type": "markdown",
   "id": "066dccdf-307e-4e51-8be1-c152453d646a",
   "metadata": {},
   "source": [
    "Kvartili su na sledećem prikazu označeni sa 25, 50 i 75%. Standardna devijacija je označena sa std. Poslednjih 5 brojeva u tebeli (od min do max) predstavlja five-number summary."
   ]
  },
  {
   "cell_type": "code",
   "execution_count": 86,
   "id": "bd314b4a-e22c-402b-8e64-7821563d067a",
   "metadata": {},
   "outputs": [
    {
     "name": "stdout",
     "output_type": "stream",
     "text": [
      "              Income     MntWines    MntFruits  MntMeatProducts  \\\n",
      "count    2216.000000  2240.000000  2240.000000      2240.000000   \n",
      "mean    52247.251354   303.935714    26.302232       166.950000   \n",
      "std     25173.076661   336.597393    39.773434       225.715373   \n",
      "min      1730.000000     0.000000     0.000000         0.000000   \n",
      "25%     35303.000000    23.750000     1.000000        16.000000   \n",
      "50%     51381.500000   173.500000     8.000000        67.000000   \n",
      "75%     68522.000000   504.250000    33.000000       232.000000   \n",
      "max    666666.000000  1493.000000   199.000000      1725.000000   \n",
      "\n",
      "       MntFishProducts  MntSweetProducts  MntGoldProds  NumDealsPurchases  \\\n",
      "count      2240.000000       2240.000000   2240.000000        2240.000000   \n",
      "mean         37.525446         27.062946     44.021875           2.325000   \n",
      "std          54.628979         41.280498     52.167439           1.932238   \n",
      "min           0.000000          0.000000      0.000000           0.000000   \n",
      "25%           3.000000          1.000000      9.000000           1.000000   \n",
      "50%          12.000000          8.000000     24.000000           2.000000   \n",
      "75%          50.000000         33.000000     56.000000           3.000000   \n",
      "max         259.000000        263.000000    362.000000          15.000000   \n",
      "\n",
      "       NumWebPurchases  NumCatalogPurchases  NumStorePurchases  \\\n",
      "count      2240.000000          2240.000000        2240.000000   \n",
      "mean          4.084821             2.662054           5.790179   \n",
      "std           2.778714             2.923101           3.250958   \n",
      "min           0.000000             0.000000           0.000000   \n",
      "25%           2.000000             0.000000           3.000000   \n",
      "50%           4.000000             2.000000           5.000000   \n",
      "75%           6.000000             4.000000           8.000000   \n",
      "max          27.000000            28.000000          13.000000   \n",
      "\n",
      "       NumWebVisitsMonth   Year_Birth  \n",
      "count        2240.000000  2240.000000  \n",
      "mean            5.316518  1968.805804  \n",
      "std             2.426645    11.984069  \n",
      "min             0.000000  1893.000000  \n",
      "25%             3.000000  1959.000000  \n",
      "50%             6.000000  1970.000000  \n",
      "75%             7.000000  1977.000000  \n",
      "max            20.000000  1996.000000  \n"
     ]
    }
   ],
   "source": [
    "print(numerical_data.describe())"
   ]
  },
  {
   "cell_type": "markdown",
   "id": "fd33ebf5-08e7-48e3-9cfc-c2a3114bbd0d",
   "metadata": {},
   "source": [
    "Odštampaćemo five-number summary preglednije."
   ]
  },
  {
   "cell_type": "code",
   "execution_count": 87,
   "id": "f75ce671-146c-4ca1-8851-429f8171c1b4",
   "metadata": {},
   "outputs": [
    {
     "name": "stdout",
     "output_type": "stream",
     "text": [
      "Income { 1730.0 35303.0 51381.5 68522.0 666666.0 }\n",
      "MntWines { 0 23.75 173.5 504.25 1493 }\n",
      "MntFruits { 0 1.0 8.0 33.0 199 }\n",
      "MntMeatProducts { 0 16.0 67.0 232.0 1725 }\n",
      "MntFishProducts { 0 3.0 12.0 50.0 259 }\n",
      "MntSweetProducts { 0 1.0 8.0 33.0 263 }\n",
      "MntGoldProds { 0 9.0 24.0 56.0 362 }\n",
      "NumDealsPurchases { 0 1.0 2.0 3.0 15 }\n",
      "NumWebPurchases { 0 2.0 4.0 6.0 27 }\n",
      "NumCatalogPurchases { 0 0.0 2.0 4.0 28 }\n",
      "NumStorePurchases { 0 3.0 5.0 8.0 13 }\n",
      "NumWebVisitsMonth { 0 3.0 6.0 7.0 20 }\n",
      "Year_Birth { 1893 1959.0 1970.0 1977.0 1996 }\n"
     ]
    }
   ],
   "source": [
    "for column in numerical_data.columns:\n",
    "    print(column, \"{\", numerical_data[column].min(), numerical_data[column].quantile(0.25), numerical_data[column].median(), numerical_data[column].quantile(0.75), numerical_data[column].max(), \"}\")"
   ]
  },
  {
   "cell_type": "markdown",
   "id": "674c5f1f-17b1-4ada-90f5-0c1110e338d0",
   "metadata": {},
   "source": [
    "Izračunaćemo i interkvartilni opseg svake od kolona."
   ]
  },
  {
   "cell_type": "code",
   "execution_count": 88,
   "id": "82f5c98c-2dc7-483b-93d4-5f1c234db273",
   "metadata": {},
   "outputs": [
    {
     "name": "stdout",
     "output_type": "stream",
     "text": [
      "Income : 33219.0\n",
      "MntWines : 480.5\n",
      "MntFruits : 32.0\n",
      "MntMeatProducts : 216.0\n",
      "MntFishProducts : 47.0\n",
      "MntSweetProducts : 32.0\n",
      "MntGoldProds : 47.0\n",
      "NumDealsPurchases : 2.0\n",
      "NumWebPurchases : 4.0\n",
      "NumCatalogPurchases : 4.0\n",
      "NumStorePurchases : 5.0\n",
      "NumWebVisitsMonth : 4.0\n",
      "Year_Birth : 18.0\n"
     ]
    }
   ],
   "source": [
    "for column in numerical_data.columns:\n",
    "    print(column, \":\", numerical_data[column].quantile(0.75) - numerical_data[column].quantile(0.25))"
   ]
  },
  {
   "cell_type": "markdown",
   "id": "9df3a5b0-b510-4401-a351-0ee50c4dc4d8",
   "metadata": {},
   "source": [
    "Za numeričke kolone, konstruisaćemo i boxplot dijagrame."
   ]
  },
  {
   "cell_type": "code",
   "execution_count": 89,
   "id": "f688a6a5-b199-45ad-b32e-7c60ec50c885",
   "metadata": {},
   "outputs": [
    {
     "data": {
      "image/png": "[encoded data removed]",
      "text/plain": [
       "<Figure size 432x288 with 1 Axes>"
      ]
     },
     "metadata": {
      "needs_background": "light"
     },
     "output_type": "display_data"
    },
    {
     "data": {
      "image/png": "[encoded data removed]",
      "text/plain": [
       "<Figure size 432x288 with 1 Axes>"
      ]
     },
     "metadata": {
      "needs_background": "light"
     },
     "output_type": "display_data"
    },
    {
     "data": {
      "image/png": "[encoded data removed]",
      "text/plain": [
       "<Figure size 432x288 with 1 Axes>"
      ]
     },
     "metadata": {
      "needs_background": "light"
     },
     "output_type": "display_data"
    },
    {
     "data": {
      "image/png": "[encoded data removed]",
      "text/plain": [
       "<Figure size 432x288 with 1 Axes>"
      ]
     },
     "metadata": {
      "needs_background": "light"
     },
     "output_type": "display_data"
    },
    {
     "data": {
      "image/png": "[encoded data removed]",
      "text/plain": [
       "<Figure size 432x288 with 1 Axes>"
      ]
     },
     "metadata": {
      "needs_background": "light"
     },
     "output_type": "display_data"
    },
    {
     "data": {
      "image/png": "[encoded data removed]",
      "text/plain": [
       "<Figure size 432x288 with 1 Axes>"
      ]
     },
     "metadata": {
      "needs_background": "light"
     },
     "output_type": "display_data"
    },
    {
     "data": {
      "image/png": "[encoded data removed]",
      "text/plain": [
       "<Figure size 432x288 with 1 Axes>"
      ]
     },
     "metadata": {
      "needs_background": "light"
     },
     "output_type": "display_data"
    },
    {
     "data": {
      "image/png": "[encoded data removed]",
      "text/plain": [
       "<Figure size 432x288 with 1 Axes>"
      ]
     },
     "metadata": {
      "needs_background": "light"
     },
     "output_type": "display_data"
    },
    {
     "data": {
      "image/png": "[encoded data removed]",
      "text/plain": [
       "<Figure size 432x288 with 1 Axes>"
      ]
     },
     "metadata": {
      "needs_background": "light"
     },
     "output_type": "display_data"
    },
    {
     "data": {
      "image/png": "[encoded data removed]",
      "text/plain": [
       "<Figure size 432x288 with 1 Axes>"
      ]
     },
     "metadata": {
      "needs_background": "light"
     },
     "output_type": "display_data"
    },
    {
     "data": {
      "image/png": "[encoded data removed]",
      "text/plain": [
       "<Figure size 432x288 with 1 Axes>"
      ]
     },
     "metadata": {
      "needs_background": "light"
     },
     "output_type": "display_data"
    },
    {
     "data": {
      "image/png": "[encoded data removed]",
      "text/plain": [
       "<Figure size 432x288 with 1 Axes>"
      ]
     },
     "metadata": {
      "needs_background": "light"
     },
     "output_type": "display_data"
    },
    {
     "data": {
      "image/png": "[encoded data removed]",
      "text/plain": [
       "<Figure size 432x288 with 1 Axes>"
      ]
     },
     "metadata": {
      "needs_background": "light"
     },
     "output_type": "display_data"
    }
   ],
   "source": [
    "for column in numerical_data.columns:\n",
    "    plt.title(column)\n",
    "    numerical_data.boxplot(column = column)\n",
    "    plt.show()"
   ]
  },
  {
   "cell_type": "markdown",
   "id": "192bd3c1-8aed-40d7-b0da-3a5a7fcf0d34",
   "metadata": {},
   "source": [
    "Varijansa predstavlja kvadrat standardne devijacije i biće prikazana ispod:"
   ]
  },
  {
   "cell_type": "code",
   "execution_count": 90,
   "id": "7216427e-ab60-433a-9fd8-b3318c2bb451",
   "metadata": {},
   "outputs": [
    {
     "name": "stdout",
     "output_type": "stream",
     "text": [
      "Income                 6.336838e+08\n",
      "MntWines               1.132978e+05\n",
      "MntFruits              1.581926e+03\n",
      "MntMeatProducts        5.094743e+04\n",
      "MntFishProducts        2.984325e+03\n",
      "MntSweetProducts       1.704080e+03\n",
      "MntGoldProds           2.721442e+03\n",
      "NumDealsPurchases      3.733542e+00\n",
      "NumWebPurchases        7.721252e+00\n",
      "NumCatalogPurchases    8.544517e+00\n",
      "NumStorePurchases      1.056873e+01\n",
      "NumWebVisitsMonth      5.888606e+00\n",
      "Year_Birth             1.436179e+02\n",
      "dtype: float64\n"
     ]
    }
   ],
   "source": [
    "print(numerical_data.std() ** 2)"
   ]
  },
  {
   "cell_type": "markdown",
   "id": "866e2b63-f247-4339-8b73-e7551e79d921",
   "metadata": {},
   "source": [
    "## Mere oblika distribucije podataka"
   ]
  },
  {
   "cell_type": "markdown",
   "id": "0c157bbb-8a15-40a9-a66a-cca5ca700578",
   "metadata": {},
   "source": [
    "U nastavku, za numeričke podatke računaćemo još i:\n",
    "- Iskošenost\n",
    "- Kurtozis"
   ]
  },
  {
   "cell_type": "markdown",
   "id": "323f2c76-559b-46a9-bd44-03eaa776fd45",
   "metadata": {},
   "source": [
    "Prvo ćemo računati apsolutne mere iskošenosti. Iako ove vrednosti nisu relevantne jer su teške za poređenje i, samim tim nepraktične, računaćemo ih radi demonstracije. "
   ]
  },
  {
   "cell_type": "markdown",
   "id": "ff233153-7aef-4716-83af-7dc492dd0dc1",
   "metadata": {},
   "source": [
    "Prvi način računanja apsolutne mere iskošenosti:"
   ]
  },
  {
   "cell_type": "code",
   "execution_count": 91,
   "id": "f60dde02-1bf6-423d-bbb5-70ef283d5f05",
   "metadata": {},
   "outputs": [
    {
     "name": "stdout",
     "output_type": "stream",
     "text": [
      "Income : 865.7513537906125\n",
      "MntWines : 130.4357142857143\n",
      "MntFruits : 18.302232142857143\n",
      "MntMeatProducts : 99.94999999999999\n",
      "MntFishProducts : 25.525446428571428\n",
      "MntSweetProducts : 19.06294642857143\n",
      "MntGoldProds : 20.021875\n",
      "NumDealsPurchases : 0.3250000000000002\n",
      "NumWebPurchases : 0.08482142857142883\n",
      "NumCatalogPurchases : 0.6620535714285714\n",
      "NumStorePurchases : 0.7901785714285712\n",
      "NumWebVisitsMonth : -0.6834821428571427\n",
      "Year_Birth : -1.1941964285713311\n"
     ]
    }
   ],
   "source": [
    "for column in numerical_data.columns:\n",
    "    print(column, \":\", numerical_data[column].mean() - numerical_data[column].median())"
   ]
  },
  {
   "cell_type": "markdown",
   "id": "cda9b06f-c3fb-4ea9-ba67-1f3190cbcc58",
   "metadata": {},
   "source": [
    "Drugi način računanja apsolutne mere iskošenosti:"
   ]
  },
  {
   "cell_type": "code",
   "execution_count": 92,
   "id": "2cc7a2e8-c293-481e-9ea6-afbca605e81f",
   "metadata": {},
   "outputs": [
    {
     "name": "stdout",
     "output_type": "stream",
     "text": [
      "Income : 44747.25135379061\n",
      "MntWines : 301.9357142857143\n",
      "MntFruits : 26.302232142857143\n",
      "MntMeatProducts : 159.95\n",
      "MntFishProducts : 37.52544642857143\n",
      "MntSweetProducts : 27.06294642857143\n",
      "MntGoldProds : 43.021875\n",
      "NumDealsPurchases : 1.3250000000000002\n",
      "NumWebPurchases : 2.084821428571429\n",
      "NumCatalogPurchases : 2.6620535714285714\n",
      "NumStorePurchases : 2.790178571428571\n",
      "NumWebVisitsMonth : -1.6834821428571427\n",
      "Year_Birth : -7.194196428571331\n"
     ]
    }
   ],
   "source": [
    "for column in numerical_data.columns:\n",
    "    print(column, \":\", numerical_data[column].mean() - numerical_data[column].mode()[0])"
   ]
  },
  {
   "cell_type": "markdown",
   "id": "965f2ac6-4d18-4396-be7b-a57232a3e74e",
   "metadata": {},
   "source": [
    "Treći način računanja apsolutne mere iskošenosti:"
   ]
  },
  {
   "cell_type": "code",
   "execution_count": 93,
   "id": "316c0d5d-8437-4c31-a454-283ca18648c0",
   "metadata": {},
   "outputs": [
    {
     "name": "stdout",
     "output_type": "stream",
     "text": [
      "Income : 1062.0\n",
      "MntWines : 181.0\n",
      "MntFruits : 18.0\n",
      "MntMeatProducts : 114.0\n",
      "MntFishProducts : 29.0\n",
      "MntSweetProducts : 18.0\n",
      "MntGoldProds : 17.0\n",
      "NumDealsPurchases : 0.0\n",
      "NumWebPurchases : 0.0\n",
      "NumCatalogPurchases : 0.0\n",
      "NumStorePurchases : 1.0\n",
      "NumWebVisitsMonth : -2.0\n",
      "Year_Birth : -4.0\n"
     ]
    }
   ],
   "source": [
    "for column in numerical_data.columns:\n",
    "    print(column, \":\", numerical_data[column].quantile(0.25) + numerical_data[column].quantile(0.75) - 2 * numerical_data[column].median())"
   ]
  },
  {
   "cell_type": "markdown",
   "id": "326e4090-9464-4184-aef8-57721ea1f1c4",
   "metadata": {},
   "source": [
    "Sada ćemo računati relativne mere iskošenosti atributa."
   ]
  },
  {
   "cell_type": "markdown",
   "id": "f09b7c3d-4105-4540-b9af-596d87828609",
   "metadata": {},
   "source": [
    "Prvo ćemo računati Karl Person koeficijent:"
   ]
  },
  {
   "cell_type": "code",
   "execution_count": 94,
   "id": "4a0d9743-95a0-4ed8-976a-f9ed6cb3cecc",
   "metadata": {},
   "outputs": [
    {
     "name": "stdout",
     "output_type": "stream",
     "text": [
      "Income : 1.7775837239351693\n",
      "MntWines : 0.8970233308958071\n",
      "MntFruits : 0.6613015184593241\n",
      "MntMeatProducts : 0.708635828477615\n",
      "MntFishProducts : 0.686914652968868\n",
      "MntSweetProducts : 0.6555867157595874\n",
      "MntGoldProds : 0.8246882709749411\n",
      "NumDealsPurchases : 0.6857335081288024\n",
      "NumWebPurchases : 0.7502827991612923\n",
      "NumCatalogPurchases : 0.9106951436597133\n",
      "NumStorePurchases : 0.8582634553880824\n",
      "NumWebVisitsMonth : -0.6937488327438601\n",
      "Year_Birth : -0.6003133121393649\n"
     ]
    }
   ],
   "source": [
    "for column in numerical_data.columns:\n",
    "    print(column, \":\", (numerical_data[column].mean() - numerical_data[column].mode()[0]) / numerical_data[column].std())"
   ]
  },
  {
   "cell_type": "markdown",
   "id": "1ef8a344-36ca-489e-a2bb-8aa67b51b9ed",
   "metadata": {},
   "source": [
    "Iako ovde nema multimodalnih atributa i Karl Personov koeficijent je definisan i po ovoj formuli, izračunaćemo ga i po drugoj formuli, koja je predviđena da bude definisana nad podacima bez obzira na njihovu modalnost:"
   ]
  },
  {
   "cell_type": "code",
   "execution_count": 95,
   "id": "269cbead-03d9-4805-b62b-f57237abb313",
   "metadata": {},
   "outputs": [
    {
     "name": "stdout",
     "output_type": "stream",
     "text": [
      "Income : 0.10317586905878173\n",
      "MntWines : 1.1625376531538172\n",
      "MntFruits : 1.3804867025956977\n",
      "MntMeatProducts : 1.3284429707346848\n",
      "MntFishProducts : 1.4017530644491583\n",
      "MntSweetProducts : 1.3853718191542603\n",
      "MntGoldProds : 1.151400686889616\n",
      "NumDealsPurchases : 0.5045963550381756\n",
      "NumWebPurchases : 0.09157627313103593\n",
      "NumCatalogPurchases : 0.6794705172131585\n",
      "NumStorePurchases : 0.7291806316977146\n",
      "NumWebVisitsMonth : -0.8449717286641604\n",
      "Year_Birth : -0.2989459714500822\n"
     ]
    }
   ],
   "source": [
    "for column in numerical_data.columns:\n",
    "    print(column, \":\", 3 * (numerical_data[column].mean() - numerical_data[column].median()) / numerical_data[column].std())"
   ]
  },
  {
   "cell_type": "markdown",
   "id": "e2ef7bee-91c2-4332-bd3e-443785e282e2",
   "metadata": {},
   "source": [
    "Zatim ćemo računati Boulijev koeficijent:"
   ]
  },
  {
   "cell_type": "code",
   "execution_count": 96,
   "id": "9cadbb65-fe44-43c6-b977-b9bf91a12252",
   "metadata": {},
   "outputs": [
    {
     "name": "stdout",
     "output_type": "stream",
     "text": [
      "Income : 0.03196965591980493\n",
      "MntWines : 0.37669094693028093\n",
      "MntFruits : 0.5625\n",
      "MntMeatProducts : 0.5277777777777778\n",
      "MntFishProducts : 0.6170212765957447\n",
      "MntSweetProducts : 0.5625\n",
      "MntGoldProds : 0.3617021276595745\n",
      "NumDealsPurchases : 0.0\n",
      "NumWebPurchases : 0.0\n",
      "NumCatalogPurchases : 0.0\n",
      "NumStorePurchases : 0.2\n",
      "NumWebVisitsMonth : -0.5\n",
      "Year_Birth : -0.2222222222222222\n"
     ]
    }
   ],
   "source": [
    "for column in numerical_data.columns:\n",
    "    print(column, \":\", (numerical_data[column].quantile(0.25) + numerical_data[column].quantile(0.75) - 2 * numerical_data[column].median()) / (numerical_data[column].quantile(0.75) - numerical_data[column].quantile(0.25)))"
   ]
  },
  {
   "cell_type": "markdown",
   "id": "36024fad-437b-49e8-a922-7e14a2faf67e",
   "metadata": {},
   "source": [
    "I konačno ćemo izračunati Kelijev koeficijent:"
   ]
  },
  {
   "cell_type": "code",
   "execution_count": 97,
   "id": "264448d8-60f3-46d3-a2ef-75107945559d",
   "metadata": {},
   "outputs": [
    {
     "name": "stdout",
     "output_type": "stream",
     "text": [
      "Income : 1198.5\n",
      "MntWines : 481.10000000000014\n",
      "MntFruits : 67.0\n",
      "MntMeatProducts : 372.0\n",
      "MntFishProducts : 96.0\n",
      "MntSweetProducts : 73.0\n",
      "MntGoldProds : 77.0\n",
      "NumDealsPurchases : 2.0\n",
      "NumWebPurchases : 1.0\n",
      "NumCatalogPurchases : 3.0\n",
      "NumStorePurchases : 3.0\n",
      "NumWebVisitsMonth : -2.0\n",
      "Year_Birth : -4.0\n"
     ]
    }
   ],
   "source": [
    "for column in numerical_data.columns:\n",
    "    print(column, \":\", numerical_data[column].quantile(0.90) + numerical_data[column].quantile(0.10) - 2 * numerical_data[column].quantile(0.5))"
   ]
  },
  {
   "cell_type": "markdown",
   "id": "a7cc49dd-d64d-475e-a361-1902231efe08",
   "metadata": {},
   "source": [
    "Izračunaćemo i kurtozis podataka, kao i njihov excess kurtozis:"
   ]
  },
  {
   "cell_type": "code",
   "execution_count": 98,
   "id": "277ec2bc-9360-49bd-b8e0-b742157f11c4",
   "metadata": {},
   "outputs": [
    {
     "name": "stdout",
     "output_type": "stream",
     "text": [
      "Income : 160.39052444069551\n",
      "MntWines : 3.5915217067031446\n",
      "MntFruits : 7.032978514307352\n",
      "MntMeatProducts : 8.49415115762831\n",
      "MntFishProducts : 6.0814426137521185\n",
      "MntSweetProducts : 7.357534278502943\n",
      "MntGoldProds : 6.535269932644493\n",
      "NumDealsPurchases : 11.903665544685408\n",
      "NumWebPurchases : 8.679973575412374\n",
      "NumCatalogPurchases : 11.016964441587303\n",
      "NumStorePurchases : 2.374540433860779\n",
      "NumWebVisitsMonth : 4.810574855384311\n",
      "Year_Birth : 3.709871978633605\n"
     ]
    }
   ],
   "source": [
    "# Kurtozis\n",
    "for column in numerical_data.columns:\n",
    "    kurtosis = np.sum((numerical_data[column] - numerical_data[column].mean()) ** 4) / (len(numerical_data[column]) * (numerical_data[column].std() ** 4))\n",
    "    print(column, \":\", kurtosis)"
   ]
  },
  {
   "cell_type": "code",
   "execution_count": 99,
   "id": "cbd8734a-6fa7-43cf-9f06-4a7a6c024cab",
   "metadata": {},
   "outputs": [
    {
     "name": "stdout",
     "output_type": "stream",
     "text": [
      "Income : 157.39052444069551\n",
      "MntWines : 0.5915217067031446\n",
      "MntFruits : 4.032978514307352\n",
      "MntMeatProducts : 5.494151157628311\n",
      "MntFishProducts : 3.0814426137521185\n",
      "MntSweetProducts : 4.357534278502943\n",
      "MntGoldProds : 3.5352699326444927\n",
      "NumDealsPurchases : 8.903665544685408\n",
      "NumWebPurchases : 5.679973575412374\n",
      "NumCatalogPurchases : 8.016964441587303\n",
      "NumStorePurchases : -0.625459566139221\n",
      "NumWebVisitsMonth : 1.8105748553843108\n",
      "Year_Birth : 0.709871978633605\n"
     ]
    }
   ],
   "source": [
    "# Excess kurtozis\n",
    "for column in numerical_data.columns:\n",
    "    kurtosis = np.sum((numerical_data[column] - numerical_data[column].mean()) ** 4) / (len(numerical_data[column]) * (numerical_data[column].std() ** 4)) - 3\n",
    "    print(column, \":\", kurtosis)"
   ]
  },
  {
   "cell_type": "markdown",
   "id": "c4e2dee4-f173-403c-a8bd-01c71034e1e8",
   "metadata": {},
   "source": [
    "Na osnovu dobijenih kurtozisa, može se zaključiti da su atributi \"Income\", \"MntX\", \"NumDealsPurchases\", \"NumWebPurchases\", \"NumCatalogPurchases\", \"NumWebVisitsMonth\" i \"YearBirth\"  leptokutrični, dok je atribut \"NumStorePurchases\" platikurtičan. Najpribližniji normalnoj raspodeli su \"MntWines\" i \"NumStorePurchases\"."
   ]
  },
  {
   "cell_type": "markdown",
   "id": "59edd9e5-fb2e-48e2-8f05-77bcfd2b7846",
   "metadata": {},
   "source": [
    "## Mere sličnosti podataka\n",
    "\n",
    "U ovom odeljku sveske prvo ćemo računati sličnosti/različitosti između objekata koristeći podskupove odgovarajućih atributa (istog tipa), a onda ćemo izračunati sličnosti i različitosti između objekata koristeći sve njihove atribute. Sa dissim će biti označene mere različitosti, a sa sim sličnosti između objekata. Ove mere biće računate između svakog para objekata i predstavljene u vidu matrica."
   ]
  },
  {
   "cell_type": "markdown",
   "id": "62dd9ae8-eeeb-4a0e-b338-cd980cdb3cfc",
   "metadata": {},
   "source": [
    "### Nominalni atributi\n",
    "\n",
    "Posmatrani dataset ima samo jedan nominalni atribut - kolonu \"Marital_Status\"."
   ]
  },
  {
   "cell_type": "code",
   "execution_count": 100,
   "id": "1e43cb34-f163-4c10-9012-662ad246f94d",
   "metadata": {},
   "outputs": [
    {
     "name": "stdout",
     "output_type": "stream",
     "text": [
      "Matrica različitosti:\n",
      "[[0. 0. 1. ... 1. 1. 1.]\n",
      " [0. 0. 1. ... 1. 1. 1.]\n",
      " [1. 1. 0. ... 1. 0. 1.]\n",
      " ...\n",
      " [1. 1. 1. ... 0. 1. 1.]\n",
      " [1. 1. 0. ... 1. 0. 1.]\n",
      " [1. 1. 1. ... 1. 1. 0.]]\n",
      "Matrica sličnosti:\n",
      "[[1. 1. 0. ... 0. 0. 0.]\n",
      " [1. 1. 0. ... 0. 0. 0.]\n",
      " [0. 0. 1. ... 0. 1. 0.]\n",
      " ...\n",
      " [0. 0. 0. ... 1. 0. 0.]\n",
      " [0. 0. 1. ... 0. 1. 0.]\n",
      " [0. 0. 0. ... 0. 0. 1.]]\n"
     ]
    }
   ],
   "source": [
    "nominal_data = customer_data[\"Marital_Status\"]\n",
    "\n",
    "dissim_nominal = np.zeros((len(nominal_data), len(nominal_data))).astype(np.float64)\n",
    "\n",
    "for i in range(len(nominal_data)):\n",
    "    for j in range(i + 1, len(nominal_data)):\n",
    "        dissim = (1 - int(nominal_data[i] == nominal_data[j])) / 1 #ispostovana je formula za vise atributa, iako se radi sa jednim\n",
    "        dissim_nominal[i, j] = dissim\n",
    "        dissim_nominal[j, i] = dissim\n",
    "\n",
    "sim_nominal = 1 - dissim_nominal\n",
    "\n",
    "print(\"Matrica različitosti:\")\n",
    "print(dissim_nominal)\n",
    "print(\"Matrica sličnosti:\")\n",
    "print(sim_nominal)"
   ]
  },
  {
   "cell_type": "markdown",
   "id": "f6fe58d1-bc96-4b4b-bf78-7b8fe57483f9",
   "metadata": {},
   "source": [
    "### Binarni atributi\n",
    "\n",
    "Ovde ćemo računati dve sličnosti/različitosti: između objekata predstavljenih samo pomoću simetričnih binarnih atributa, i između onih predstavljenih asimetričnim binarnim atributima. Prvo će se za svaki par izračunati contigency matrix, koja će biti predstavljena kao niz dužine 4, u kom će redom ići vrednosti q, r, s i t (referencirati se na seminarski)."
   ]
  },
  {
   "cell_type": "markdown",
   "id": "608f066c-dc5f-4ba7-972e-2e63259c9687",
   "metadata": {},
   "source": [
    "#### Simetrični binarni atributi\n",
    "\n",
    "Pored atributa \"Kidhome\" i \"Teenhome\" koji su simetrični binarni atributi, da bismo demonstrirali i ovu mogućnost, transformisaćemo nominalni atribut \"Marital_Status\" u odgovarajući broj simetričnih binarnih atributa gde će svaki atribut odgovarati jednom stanju nominalnog atributa."
   ]
  },
  {
   "cell_type": "code",
   "execution_count": 101,
   "id": "660af75e-8c7b-411a-9fe5-7c6ddae9c611",
   "metadata": {},
   "outputs": [
    {
     "name": "stdout",
     "output_type": "stream",
     "text": [
      "Matrica slučaja: \n",
      "[[[1. 0. 0. 9.]\n",
      "  [1. 0. 0. 9.]\n",
      "  [0. 1. 0. 9.]\n",
      "  ...\n",
      "  [0. 1. 0. 9.]\n",
      "  [0. 1. 0. 9.]\n",
      "  [0. 1. 0. 9.]]\n",
      "\n",
      " [[1. 0. 0. 9.]\n",
      "  [3. 0. 0. 7.]\n",
      "  [0. 3. 0. 7.]\n",
      "  ...\n",
      "  [0. 3. 0. 7.]\n",
      "  [1. 2. 0. 7.]\n",
      "  [2. 1. 0. 7.]]\n",
      "\n",
      " [[0. 0. 1. 9.]\n",
      "  [0. 0. 3. 7.]\n",
      "  [1. 0. 0. 9.]\n",
      "  ...\n",
      "  [0. 1. 0. 9.]\n",
      "  [1. 0. 0. 9.]\n",
      "  [0. 1. 0. 9.]]\n",
      "\n",
      " ...\n",
      "\n",
      " [[0. 0. 1. 9.]\n",
      "  [0. 0. 3. 7.]\n",
      "  [0. 0. 1. 9.]\n",
      "  ...\n",
      "  [1. 0. 0. 9.]\n",
      "  [0. 1. 0. 9.]\n",
      "  [0. 1. 0. 9.]]\n",
      "\n",
      " [[0. 0. 1. 9.]\n",
      "  [1. 0. 2. 7.]\n",
      "  [1. 0. 0. 9.]\n",
      "  ...\n",
      "  [0. 0. 1. 9.]\n",
      "  [2. 0. 0. 8.]\n",
      "  [1. 1. 0. 8.]]\n",
      "\n",
      " [[0. 0. 1. 9.]\n",
      "  [2. 0. 1. 7.]\n",
      "  [0. 0. 1. 9.]\n",
      "  ...\n",
      "  [0. 0. 1. 9.]\n",
      "  [1. 0. 1. 8.]\n",
      "  [3. 0. 0. 7.]]]\n",
      "Matrica različitosti:\n",
      "[[0.  0.  0.1 ... 0.1 0.1 0.1]\n",
      " [0.  0.  0.3 ... 0.3 0.2 0.1]\n",
      " [0.1 0.3 0.  ... 0.1 0.  0.1]\n",
      " ...\n",
      " [0.1 0.3 0.1 ... 0.  0.1 0.1]\n",
      " [0.1 0.2 0.  ... 0.1 0.  0.1]\n",
      " [0.1 0.1 0.1 ... 0.1 0.1 0. ]]\n",
      "Matrica sličnosti:\n",
      "[[1.  1.  0.9 ... 0.9 0.9 0.9]\n",
      " [1.  1.  0.7 ... 0.7 0.8 0.9]\n",
      " [0.9 0.7 1.  ... 0.9 1.  0.9]\n",
      " ...\n",
      " [0.9 0.7 0.9 ... 1.  0.9 0.9]\n",
      " [0.9 0.8 1.  ... 0.9 1.  0.9]\n",
      " [0.9 0.9 0.9 ... 0.9 0.9 1. ]]\n"
     ]
    }
   ],
   "source": [
    "symmetric_binary_data = customer_data[[\"Kidhome\", \"Teenhome\"]].to_numpy()\n",
    "symmetric_binary_data = np.concatenate((symmetric_binary_data, pd.get_dummies(customer_data[[\"Marital_Status\"]], columns=[\"Marital_Status\"]).to_numpy()), axis=-1)\n",
    "\n",
    "contigency_matrices_sym = np.zeros((len(customer_data), len(customer_data), 4))\n",
    "dissim_symmetric_binary = np.zeros((len(customer_data), len(customer_data))).astype(np.float64)\n",
    "\n",
    "for i in range(len(customer_data)):\n",
    "    for j in range (i, len(customer_data)):\n",
    "        q = 0\n",
    "        r = 0\n",
    "        s = 0\n",
    "        t = 0\n",
    "\n",
    "        for k in range(symmetric_binary_data.shape[-1]):\n",
    "            if symmetric_binary_data[i, k] == symmetric_binary_data[j, k] and symmetric_binary_data[i, k] == 1:\n",
    "                q = q + 1\n",
    "            elif symmetric_binary_data[i, k] == symmetric_binary_data[i, k] and symmetric_binary_data[i, k] == 0:\n",
    "                t = t + 1\n",
    "            elif symmetric_binary_data[i, k] == 1:\n",
    "                r = r + 1\n",
    "            else:\n",
    "                s = s + 1\n",
    "            \n",
    "        contigency_matrices_sym[i, j] = np.array([q, r, s, t])\n",
    "        contigency_matrices_sym[j, i] = np.array([q, s, r, t])\n",
    "\n",
    "        dissim_symmetric_binary[i, j] = (r + s) / (q + r + s + t)\n",
    "        dissim_symmetric_binary[j, i] = dissim_symmetric_binary[i, j]\n",
    "\n",
    "sim_symmetric_binary = 1 - dissim_symmetric_binary\n",
    "\n",
    "print(\"Matrica slučaja: \")\n",
    "print(contigency_matrices_sym)\n",
    "print(\"Matrica različitosti:\")\n",
    "print(dissim_symmetric_binary)\n",
    "print(\"Matrica sličnosti:\")\n",
    "print(sim_symmetric_binary)"
   ]
  },
  {
   "cell_type": "markdown",
   "id": "1a9d8f88-0aa5-47d7-be47-a12f6317fd76",
   "metadata": {},
   "source": [
    "#### Asimetrični binarni atributi"
   ]
  },
  {
   "cell_type": "code",
   "execution_count": 102,
   "id": "15babce6-f52c-479d-af77-7ca93854feb1",
   "metadata": {},
   "outputs": [
    {
     "name": "stdout",
     "output_type": "stream",
     "text": [
      "Matrica slučaja: \n",
      "[[[ 2.  0.  0. 13.]\n",
      "  [ 1.  1.  0. 13.]\n",
      "  [ 0.  2.  0. 13.]\n",
      "  ...\n",
      "  [ 0.  2.  0. 13.]\n",
      "  [ 0.  2.  0. 13.]\n",
      "  [ 1.  1.  0. 13.]]\n",
      "\n",
      " [[ 1.  0.  1. 13.]\n",
      "  [ 1.  0.  0. 14.]\n",
      "  [ 0.  1.  0. 14.]\n",
      "  ...\n",
      "  [ 0.  1.  0. 14.]\n",
      "  [ 0.  1.  0. 14.]\n",
      "  [ 0.  1.  0. 14.]]\n",
      "\n",
      " [[ 0.  0.  2. 13.]\n",
      "  [ 0.  0.  1. 14.]\n",
      "  [ 1.  0.  0. 14.]\n",
      "  ...\n",
      "  [ 0.  1.  0. 14.]\n",
      "  [ 1.  0.  0. 14.]\n",
      "  [ 0.  1.  0. 14.]]\n",
      "\n",
      " ...\n",
      "\n",
      " [[ 0.  0.  2. 13.]\n",
      "  [ 0.  0.  1. 14.]\n",
      "  [ 0.  0.  1. 14.]\n",
      "  ...\n",
      "  [ 2.  0.  0. 13.]\n",
      "  [ 0.  2.  0. 13.]\n",
      "  [ 0.  2.  0. 13.]]\n",
      "\n",
      " [[ 0.  0.  2. 13.]\n",
      "  [ 0.  0.  1. 14.]\n",
      "  [ 1.  0.  0. 14.]\n",
      "  ...\n",
      "  [ 0.  0.  2. 13.]\n",
      "  [ 1.  0.  0. 14.]\n",
      "  [ 0.  1.  0. 14.]]\n",
      "\n",
      " [[ 1.  0.  1. 13.]\n",
      "  [ 0.  0.  1. 14.]\n",
      "  [ 0.  0.  1. 14.]\n",
      "  ...\n",
      "  [ 0.  0.  2. 13.]\n",
      "  [ 0.  0.  1. 14.]\n",
      "  [ 2.  0.  0. 13.]]]\n",
      "Matrica različitosti:\n",
      "[[0.  0.5 1.  ... 1.  1.  0.5]\n",
      " [0.5 0.  1.  ... 1.  1.  1. ]\n",
      " [1.  1.  0.  ... 1.  0.  1. ]\n",
      " ...\n",
      " [1.  1.  1.  ... 0.  1.  1. ]\n",
      " [1.  1.  0.  ... 1.  0.  1. ]\n",
      " [0.5 1.  1.  ... 1.  1.  0. ]]\n",
      "Matrica sličnosti:\n",
      "[[1.  0.5 0.  ... 0.  0.  0.5]\n",
      " [0.5 1.  0.  ... 0.  0.  0. ]\n",
      " [0.  0.  1.  ... 0.  1.  0. ]\n",
      " ...\n",
      " [0.  0.  0.  ... 1.  0.  0. ]\n",
      " [0.  0.  1.  ... 0.  1.  0. ]\n",
      " [0.5 0.  0.  ... 0.  0.  1. ]]\n"
     ]
    }
   ],
   "source": [
    "asymmetric_binary_data = customer_data[[\"AcceptedCmp1\", \"AcceptedCmp2\", \"AcceptedCmp3\", \"AcceptedCmp4\", \"AcceptedCmp5\", \"Complain\", \"Response\"]].to_numpy()\n",
    "asymmetric_binary_data = np.concatenate((asymmetric_binary_data, pd.get_dummies(customer_data[[\"Marital_Status\"]], columns=[\"Marital_Status\"]).to_numpy()), axis=-1)\n",
    "\n",
    "contigency_matrices_asym = np.zeros((len(customer_data), len(customer_data), 4))\n",
    "dissim_asymmetric_binary = np.zeros((len(customer_data), len(customer_data))).astype(np.float64)\n",
    "\n",
    "for i in range(len(customer_data)):\n",
    "    for j in range (i, len(customer_data)):\n",
    "        q = 0\n",
    "        r = 0\n",
    "        s = 0\n",
    "        t = 0\n",
    "\n",
    "        for k in range(asymmetric_binary_data.shape[-1]):\n",
    "            if asymmetric_binary_data[i, k] == asymmetric_binary_data[j, k] and asymmetric_binary_data[i, k] == 1:\n",
    "                q = q + 1\n",
    "            elif asymmetric_binary_data[i, k] == asymmetric_binary_data[i, k] and asymmetric_binary_data[i, k] == 0:\n",
    "                t = t + 1\n",
    "            elif asymmetric_binary_data[i, k] == 1:\n",
    "                r = r + 1\n",
    "            else:\n",
    "                s = s + 1\n",
    "            \n",
    "        contigency_matrices_asym[i, j] = np.array([q, r, s, t])\n",
    "        contigency_matrices_asym[j, i] = np.array([q, s, r, t])\n",
    "\n",
    "        dissim_asymmetric_binary[i, j] = (r + s) / (q + r + s )\n",
    "        dissim_asymmetric_binary[j, i] = dissim_asymmetric_binary[i, j]\n",
    "\n",
    "sim_asymmetric_binary = 1 - dissim_asymmetric_binary\n",
    "\n",
    "print(\"Matrica slučaja: \")\n",
    "print(contigency_matrices_asym)\n",
    "print(\"Matrica različitosti:\")\n",
    "print(dissim_asymmetric_binary)\n",
    "print(\"Matrica sličnosti:\")\n",
    "print(sim_asymmetric_binary)"
   ]
  },
  {
   "cell_type": "markdown",
   "id": "32ab0ba7-e293-447a-8cb1-a70096be54f9",
   "metadata": {},
   "source": [
    "### Numerički atributi\n",
    "\n",
    "Pre računanja distanci, normalizovaćemo vrednost svih atributa na opseg [0, 1] radi demonstracije. Koristićemo L2 distancu."
   ]
  },
  {
   "cell_type": "code",
   "execution_count": 106,
   "id": "069a6464-d0e6-44f4-af0e-e2ccb31031b1",
   "metadata": {},
   "outputs": [
    {
     "name": "stdout",
     "output_type": "stream",
     "text": [
      "Matrica različitosti:\n",
      "[[0.  0.5 1.  ... 1.  1.  0.5]\n",
      " [0.5 0.  1.  ... 1.  1.  1. ]\n",
      " [1.  1.  0.  ... 1.  0.  1. ]\n",
      " ...\n",
      " [1.  1.  1.  ... 0.  1.  1. ]\n",
      " [1.  1.  0.  ... 1.  0.  1. ]\n",
      " [0.5 1.  1.  ... 1.  1.  0. ]]\n",
      "Matrica sličnosti:\n",
      "[[1.  0.5 0.  ... 0.  0.  0.5]\n",
      " [0.5 1.  0.  ... 0.  0.  0. ]\n",
      " [0.  0.  1.  ... 0.  1.  0. ]\n",
      " ...\n",
      " [0.  0.  0.  ... 1.  0.  0. ]\n",
      " [0.  0.  1.  ... 0.  1.  0. ]\n",
      " [0.5 0.  0.  ... 0.  0.  1. ]]\n"
     ]
    }
   ],
   "source": [
    "numeric_data = customer_data[numerical_data.columns].to_numpy()\n",
    "numeric_data = (numeric_data - np.min(numeric_data, axis=0)) / (np.max(numeric_data, axis=0) - np.min(numeric_data, axis=0))\n",
    "\n",
    "dissim_numeric = np.zeros((len(customer_data), len(customer_data)))\n",
    "\n",
    "for i in range(len(customer_data)):\n",
    "    for j in range(i+1, len(customer_data)):\n",
    "        dissim_numeric[i, j] = np.linalg.norm((numeric_data[i] - numeric_data[j]))\n",
    "        dissim_numeric[j, i] = dissim_numeric[i, j]\n",
    "\n",
    "sim_numeric = 1 - dissim_numeric\n",
    "\n",
    "print(\"Matrica različitosti:\")\n",
    "print(dissim_asymmetric_binary)\n",
    "print(\"Matrica sličnosti:\")\n",
    "print(sim_asymmetric_binary)"
   ]
  },
  {
   "cell_type": "markdown",
   "id": "0bd98b61-3c52-4294-af53-ff127eedfe34",
   "metadata": {},
   "source": [
    "### Ordinalni atributi"
   ]
  },
  {
   "cell_type": "markdown",
   "id": "161942cf-0809-456f-b8e7-aaf9715c5b7a",
   "metadata": {},
   "source": [
    "U dataset-u imamo jedan ordinalni atrinut - \"Education\""
   ]
  },
  {
   "cell_type": "code",
   "execution_count": 108,
   "id": "57e072d5-3448-4034-b97b-63fa96484f65",
   "metadata": {},
   "outputs": [
    {
     "name": "stdout",
     "output_type": "stream",
     "text": [
      "Matrica različitosti:\n",
      "[[0.  0.  0.  ... 0.  0.2 0.4]\n",
      " [0.  0.  0.  ... 0.  0.2 0.4]\n",
      " [0.  0.  0.  ... 0.  0.2 0.4]\n",
      " ...\n",
      " [0.  0.  0.  ... 0.  0.2 0.4]\n",
      " [0.2 0.2 0.2 ... 0.2 0.  0.2]\n",
      " [0.4 0.4 0.4 ... 0.4 0.2 0. ]]\n",
      "Matrica sličnosti:\n",
      "[[1.  1.  1.  ... 1.  0.8 0.6]\n",
      " [1.  1.  1.  ... 1.  0.8 0.6]\n",
      " [1.  1.  1.  ... 1.  0.8 0.6]\n",
      " ...\n",
      " [1.  1.  1.  ... 1.  0.8 0.6]\n",
      " [0.8 0.8 0.8 ... 0.8 1.  0.8]\n",
      " [0.6 0.6 0.6 ... 0.6 0.8 1. ]]\n"
     ]
    }
   ],
   "source": [
    "ordinal_data = np.zeros(len(customer_data[\"Education\"]))\n",
    "ordinal_data[customer_data[\"Education\"] == \"Basic\"] = 1\n",
    "ordinal_data[customer_data[\"Education\"] == \"2n Cycle\"] = 2\n",
    "ordinal_data[customer_data[\"Education\"] == \"Graduation\"] = 3\n",
    "ordinal_data[customer_data[\"Education\"] == \"Master\"] = 4\n",
    "ordinal_data[customer_data[\"Education\"] == \"PhD\"] = 5\n",
    "\n",
    "ordinal_data = (ordinal_data - 1) / 5\n",
    "\n",
    "dissim_ordinal = np.zeros((len(customer_data), len(customer_data)))\n",
    "\n",
    "for i in range(len(customer_data)):\n",
    "    for j in range(i+1, len(customer_data)):\n",
    "        dissim_ordinal[i, j] = np.linalg.norm((ordinal_data[i] - ordinal_data[j]))\n",
    "        dissim_ordinal[j, i] = dissim_ordinal[i, j]\n",
    "\n",
    "sim_ordinal = 1 - dissim_ordinal\n",
    "\n",
    "print(\"Matrica različitosti:\")\n",
    "print(dissim_ordinal)\n",
    "print(\"Matrica sličnosti:\")\n",
    "print(sim_ordinal)"
   ]
  },
  {
   "cell_type": "markdown",
   "id": "f3eb67f5-c4b1-409d-b86f-88b9e717ecc4",
   "metadata": {},
   "source": [
    "### Atributi mešovitog tipa\n",
    "\n",
    "Sada ćemo računati sličnosti/različitosti objekata pomoću svih atributa."
   ]
  },
  {
   "cell_type": "code",
   "execution_count": null,
   "id": "45928b58-009b-4f25-beb9-743d5772a239",
   "metadata": {},
   "outputs": [],
   "source": []
  },
  {
   "cell_type": "code",
   "execution_count": null,
   "id": "b24f8625-76d4-42e5-985e-c45b51fec230",
   "metadata": {},
   "outputs": [],
   "source": []
  }
 ],
 "metadata": {
  "kernelspec": {
   "display_name": "Python 3 (ipykernel)",
   "language": "python",
   "name": "python3"
  },
  "language_info": {
   "codemirror_mode": {
    "name": "ipython",
    "version": 3
   },
   "file_extension": ".py",
   "mimetype": "text/x-python",
   "name": "python",
   "nbconvert_exporter": "python",
   "pygments_lexer": "ipython3",
   "version": "3.10.2"
  }
 },
 "nbformat": 4,
 "nbformat_minor": 5
}
